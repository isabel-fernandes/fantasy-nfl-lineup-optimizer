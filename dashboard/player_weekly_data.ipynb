{
 "metadata": {
  "language_info": {
   "codemirror_mode": {
    "name": "ipython",
    "version": 3
   },
   "file_extension": ".py",
   "mimetype": "text/x-python",
   "name": "python",
   "nbconvert_exporter": "python",
   "pygments_lexer": "ipython3",
   "version": "3.8.3-final"
  },
  "orig_nbformat": 2,
  "kernelspec": {
   "name": "Python 3.8.3 64-bit (conda)",
   "display_name": "Python 3.8.3 64-bit (conda)",
   "metadata": {
    "interpreter": {
     "hash": "a4841eeb86f7d837670793275e227623a560700939cb6e34c015832bd2c85e9e"
    }
   }
  }
 },
 "nbformat": 4,
 "nbformat_minor": 2,
 "cells": [
  {
   "cell_type": "code",
   "execution_count": 1,
   "metadata": {},
   "outputs": [],
   "source": [
    "# Data handling\n",
    "import pandas as pd\n",
    "import numpy as np\n",
    "import matplotlib.pyplot as plt"
   ]
  },
  {
   "cell_type": "code",
   "execution_count": 2,
   "metadata": {},
   "outputs": [],
   "source": [
    "# Bokeh libraries\n",
    "from bokeh.io import output_file, output_notebook\n",
    "from bokeh.plotting import figure, show\n",
    "from bokeh.models import ColumnDataSource\n",
    "from bokeh.layouts import row, column, gridplot\n",
    "from bokeh.models.widgets import Tabs, Panel\n",
    "from bokeh.models import ColumnDataSource, HoverTool, CategoricalColorMapper, LinearColorMapper, ColorBar, Slider\n",
    "from bokeh.palettes import Spectral5, Category20b, Viridis, Cividis, Viridis256\n",
    "from bokeh.transform import factor_cmap, transform"
   ]
  },
  {
   "cell_type": "code",
   "execution_count": 3,
   "metadata": {},
   "outputs": [
    {
     "output_type": "display_data",
     "data": {
      "text/html": "\n    <div class=\"bk-root\">\n        <a href=\"https://bokeh.org\" target=\"_blank\" class=\"bk-logo bk-logo-small bk-logo-notebook\"></a>\n        <span id=\"1001\">Loading BokehJS ...</span>\n    </div>"
     },
     "metadata": {}
    },
    {
     "output_type": "display_data",
     "data": {
      "application/javascript": "\n(function(root) {\n  function now() {\n    return new Date();\n  }\n\n  var force = true;\n\n  if (typeof root._bokeh_onload_callbacks === \"undefined\" || force === true) {\n    root._bokeh_onload_callbacks = [];\n    root._bokeh_is_loading = undefined;\n  }\n\n  var JS_MIME_TYPE = 'application/javascript';\n  var HTML_MIME_TYPE = 'text/html';\n  var EXEC_MIME_TYPE = 'application/vnd.bokehjs_exec.v0+json';\n  var CLASS_NAME = 'output_bokeh rendered_html';\n\n  /**\n   * Render data to the DOM node\n   */\n  function render(props, node) {\n    var script = document.createElement(\"script\");\n    node.appendChild(script);\n  }\n\n  /**\n   * Handle when an output is cleared or removed\n   */\n  function handleClearOutput(event, handle) {\n    var cell = handle.cell;\n\n    var id = cell.output_area._bokeh_element_id;\n    var server_id = cell.output_area._bokeh_server_id;\n    // Clean up Bokeh references\n    if (id != null && id in Bokeh.index) {\n      Bokeh.index[id].model.document.clear();\n      delete Bokeh.index[id];\n    }\n\n    if (server_id !== undefined) {\n      // Clean up Bokeh references\n      var cmd = \"from bokeh.io.state import curstate; print(curstate().uuid_to_server['\" + server_id + \"'].get_sessions()[0].document.roots[0]._id)\";\n      cell.notebook.kernel.execute(cmd, {\n        iopub: {\n          output: function(msg) {\n            var id = msg.content.text.trim();\n            if (id in Bokeh.index) {\n              Bokeh.index[id].model.document.clear();\n              delete Bokeh.index[id];\n            }\n          }\n        }\n      });\n      // Destroy server and session\n      var cmd = \"import bokeh.io.notebook as ion; ion.destroy_server('\" + server_id + \"')\";\n      cell.notebook.kernel.execute(cmd);\n    }\n  }\n\n  /**\n   * Handle when a new output is added\n   */\n  function handleAddOutput(event, handle) {\n    var output_area = handle.output_area;\n    var output = handle.output;\n\n    // limit handleAddOutput to display_data with EXEC_MIME_TYPE content only\n    if ((output.output_type != \"display_data\") || (!output.data.hasOwnProperty(EXEC_MIME_TYPE))) {\n      return\n    }\n\n    var toinsert = output_area.element.find(\".\" + CLASS_NAME.split(' ')[0]);\n\n    if (output.metadata[EXEC_MIME_TYPE][\"id\"] !== undefined) {\n      toinsert[toinsert.length - 1].firstChild.textContent = output.data[JS_MIME_TYPE];\n      // store reference to embed id on output_area\n      output_area._bokeh_element_id = output.metadata[EXEC_MIME_TYPE][\"id\"];\n    }\n    if (output.metadata[EXEC_MIME_TYPE][\"server_id\"] !== undefined) {\n      var bk_div = document.createElement(\"div\");\n      bk_div.innerHTML = output.data[HTML_MIME_TYPE];\n      var script_attrs = bk_div.children[0].attributes;\n      for (var i = 0; i < script_attrs.length; i++) {\n        toinsert[toinsert.length - 1].firstChild.setAttribute(script_attrs[i].name, script_attrs[i].value);\n        toinsert[toinsert.length - 1].firstChild.textContent = bk_div.children[0].textContent\n      }\n      // store reference to server id on output_area\n      output_area._bokeh_server_id = output.metadata[EXEC_MIME_TYPE][\"server_id\"];\n    }\n  }\n\n  function register_renderer(events, OutputArea) {\n\n    function append_mime(data, metadata, element) {\n      // create a DOM node to render to\n      var toinsert = this.create_output_subarea(\n        metadata,\n        CLASS_NAME,\n        EXEC_MIME_TYPE\n      );\n      this.keyboard_manager.register_events(toinsert);\n      // Render to node\n      var props = {data: data, metadata: metadata[EXEC_MIME_TYPE]};\n      render(props, toinsert[toinsert.length - 1]);\n      element.append(toinsert);\n      return toinsert\n    }\n\n    /* Handle when an output is cleared or removed */\n    events.on('clear_output.CodeCell', handleClearOutput);\n    events.on('delete.Cell', handleClearOutput);\n\n    /* Handle when a new output is added */\n    events.on('output_added.OutputArea', handleAddOutput);\n\n    /**\n     * Register the mime type and append_mime function with output_area\n     */\n    OutputArea.prototype.register_mime_type(EXEC_MIME_TYPE, append_mime, {\n      /* Is output safe? */\n      safe: true,\n      /* Index of renderer in `output_area.display_order` */\n      index: 0\n    });\n  }\n\n  // register the mime type if in Jupyter Notebook environment and previously unregistered\n  if (root.Jupyter !== undefined) {\n    var events = require('base/js/events');\n    var OutputArea = require('notebook/js/outputarea').OutputArea;\n\n    if (OutputArea.prototype.mime_types().indexOf(EXEC_MIME_TYPE) == -1) {\n      register_renderer(events, OutputArea);\n    }\n  }\n\n  \n  if (typeof (root._bokeh_timeout) === \"undefined\" || force === true) {\n    root._bokeh_timeout = Date.now() + 5000;\n    root._bokeh_failed_load = false;\n  }\n\n  var NB_LOAD_WARNING = {'data': {'text/html':\n     \"<div style='background-color: #fdd'>\\n\"+\n     \"<p>\\n\"+\n     \"BokehJS does not appear to have successfully loaded. If loading BokehJS from CDN, this \\n\"+\n     \"may be due to a slow or bad network connection. Possible fixes:\\n\"+\n     \"</p>\\n\"+\n     \"<ul>\\n\"+\n     \"<li>re-rerun `output_notebook()` to attempt to load from CDN again, or</li>\\n\"+\n     \"<li>use INLINE resources instead, as so:</li>\\n\"+\n     \"</ul>\\n\"+\n     \"<code>\\n\"+\n     \"from bokeh.resources import INLINE\\n\"+\n     \"output_notebook(resources=INLINE)\\n\"+\n     \"</code>\\n\"+\n     \"</div>\"}};\n\n  function display_loaded() {\n    var el = document.getElementById(\"1001\");\n    if (el != null) {\n      el.textContent = \"BokehJS is loading...\";\n    }\n    if (root.Bokeh !== undefined) {\n      if (el != null) {\n        el.textContent = \"BokehJS \" + root.Bokeh.version + \" successfully loaded.\";\n      }\n    } else if (Date.now() < root._bokeh_timeout) {\n      setTimeout(display_loaded, 100)\n    }\n  }\n\n\n  function run_callbacks() {\n    try {\n      root._bokeh_onload_callbacks.forEach(function(callback) {\n        if (callback != null)\n          callback();\n      });\n    } finally {\n      delete root._bokeh_onload_callbacks\n    }\n    console.debug(\"Bokeh: all callbacks have finished\");\n  }\n\n  function load_libs(css_urls, js_urls, callback) {\n    if (css_urls == null) css_urls = [];\n    if (js_urls == null) js_urls = [];\n\n    root._bokeh_onload_callbacks.push(callback);\n    if (root._bokeh_is_loading > 0) {\n      console.debug(\"Bokeh: BokehJS is being loaded, scheduling callback at\", now());\n      return null;\n    }\n    if (js_urls == null || js_urls.length === 0) {\n      run_callbacks();\n      return null;\n    }\n    console.debug(\"Bokeh: BokehJS not loaded, scheduling load and callback at\", now());\n    root._bokeh_is_loading = css_urls.length + js_urls.length;\n\n    function on_load() {\n      root._bokeh_is_loading--;\n      if (root._bokeh_is_loading === 0) {\n        console.debug(\"Bokeh: all BokehJS libraries/stylesheets loaded\");\n        run_callbacks()\n      }\n    }\n\n    function on_error() {\n      console.error(\"failed to load \" + url);\n    }\n\n    for (var i = 0; i < css_urls.length; i++) {\n      var url = css_urls[i];\n      const element = document.createElement(\"link\");\n      element.onload = on_load;\n      element.onerror = on_error;\n      element.rel = \"stylesheet\";\n      element.type = \"text/css\";\n      element.href = url;\n      console.debug(\"Bokeh: injecting link tag for BokehJS stylesheet: \", url);\n      document.body.appendChild(element);\n    }\n\n    const hashes = {\"https://cdn.bokeh.org/bokeh/release/bokeh-2.1.1.min.js\": \"kLr4fYcqcSpbuI95brIH3vnnYCquzzSxHPU6XGQCIkQRGJwhg0StNbj1eegrHs12\", \"https://cdn.bokeh.org/bokeh/release/bokeh-widgets-2.1.1.min.js\": \"xIGPmVtaOm+z0BqfSOMn4lOR6ciex448GIKG4eE61LsAvmGj48XcMQZtKcE/UXZe\", \"https://cdn.bokeh.org/bokeh/release/bokeh-tables-2.1.1.min.js\": \"Dc9u1wF/0zApGIWoBbH77iWEHtdmkuYWG839Uzmv8y8yBLXebjO9ZnERsde5Ln/P\", \"https://cdn.bokeh.org/bokeh/release/bokeh-gl-2.1.1.min.js\": \"cT9JaBz7GiRXdENrJLZNSC6eMNF3nh3fa5fTF51Svp+ukxPdwcU5kGXGPBgDCa2j\"};\n\n    for (var i = 0; i < js_urls.length; i++) {\n      var url = js_urls[i];\n      var element = document.createElement('script');\n      element.onload = on_load;\n      element.onerror = on_error;\n      element.async = false;\n      element.src = url;\n      if (url in hashes) {\n        element.crossOrigin = \"anonymous\";\n        element.integrity = \"sha384-\" + hashes[url];\n      }\n      console.debug(\"Bokeh: injecting script tag for BokehJS library: \", url);\n      document.head.appendChild(element);\n    }\n  };\n\n  function inject_raw_css(css) {\n    const element = document.createElement(\"style\");\n    element.appendChild(document.createTextNode(css));\n    document.body.appendChild(element);\n  }\n\n  \n  var js_urls = [\"https://cdn.bokeh.org/bokeh/release/bokeh-2.1.1.min.js\", \"https://cdn.bokeh.org/bokeh/release/bokeh-widgets-2.1.1.min.js\", \"https://cdn.bokeh.org/bokeh/release/bokeh-tables-2.1.1.min.js\", \"https://cdn.bokeh.org/bokeh/release/bokeh-gl-2.1.1.min.js\"];\n  var css_urls = [];\n  \n\n  var inline_js = [\n    function(Bokeh) {\n      Bokeh.set_log_level(\"info\");\n    },\n    function(Bokeh) {\n    \n    \n    }\n  ];\n\n  function run_inline_js() {\n    \n    if (root.Bokeh !== undefined || force === true) {\n      \n    for (var i = 0; i < inline_js.length; i++) {\n      inline_js[i].call(root, root.Bokeh);\n    }\n    if (force === true) {\n        display_loaded();\n      }} else if (Date.now() < root._bokeh_timeout) {\n      setTimeout(run_inline_js, 100);\n    } else if (!root._bokeh_failed_load) {\n      console.log(\"Bokeh: BokehJS failed to load within specified timeout.\");\n      root._bokeh_failed_load = true;\n    } else if (force !== true) {\n      var cell = $(document.getElementById(\"1001\")).parents('.cell').data().cell;\n      cell.output_area.append_execute_result(NB_LOAD_WARNING)\n    }\n\n  }\n\n  if (root._bokeh_is_loading === 0) {\n    console.debug(\"Bokeh: BokehJS loaded, going straight to plotting\");\n    run_inline_js();\n  } else {\n    load_libs(css_urls, js_urls, function() {\n      console.debug(\"Bokeh: BokehJS plotting callback run at\", now());\n      run_inline_js();\n    });\n  }\n}(window));",
      "application/vnd.bokehjs_load.v0+json": "\n(function(root) {\n  function now() {\n    return new Date();\n  }\n\n  var force = true;\n\n  if (typeof root._bokeh_onload_callbacks === \"undefined\" || force === true) {\n    root._bokeh_onload_callbacks = [];\n    root._bokeh_is_loading = undefined;\n  }\n\n  \n\n  \n  if (typeof (root._bokeh_timeout) === \"undefined\" || force === true) {\n    root._bokeh_timeout = Date.now() + 5000;\n    root._bokeh_failed_load = false;\n  }\n\n  var NB_LOAD_WARNING = {'data': {'text/html':\n     \"<div style='background-color: #fdd'>\\n\"+\n     \"<p>\\n\"+\n     \"BokehJS does not appear to have successfully loaded. If loading BokehJS from CDN, this \\n\"+\n     \"may be due to a slow or bad network connection. Possible fixes:\\n\"+\n     \"</p>\\n\"+\n     \"<ul>\\n\"+\n     \"<li>re-rerun `output_notebook()` to attempt to load from CDN again, or</li>\\n\"+\n     \"<li>use INLINE resources instead, as so:</li>\\n\"+\n     \"</ul>\\n\"+\n     \"<code>\\n\"+\n     \"from bokeh.resources import INLINE\\n\"+\n     \"output_notebook(resources=INLINE)\\n\"+\n     \"</code>\\n\"+\n     \"</div>\"}};\n\n  function display_loaded() {\n    var el = document.getElementById(\"1001\");\n    if (el != null) {\n      el.textContent = \"BokehJS is loading...\";\n    }\n    if (root.Bokeh !== undefined) {\n      if (el != null) {\n        el.textContent = \"BokehJS \" + root.Bokeh.version + \" successfully loaded.\";\n      }\n    } else if (Date.now() < root._bokeh_timeout) {\n      setTimeout(display_loaded, 100)\n    }\n  }\n\n\n  function run_callbacks() {\n    try {\n      root._bokeh_onload_callbacks.forEach(function(callback) {\n        if (callback != null)\n          callback();\n      });\n    } finally {\n      delete root._bokeh_onload_callbacks\n    }\n    console.debug(\"Bokeh: all callbacks have finished\");\n  }\n\n  function load_libs(css_urls, js_urls, callback) {\n    if (css_urls == null) css_urls = [];\n    if (js_urls == null) js_urls = [];\n\n    root._bokeh_onload_callbacks.push(callback);\n    if (root._bokeh_is_loading > 0) {\n      console.debug(\"Bokeh: BokehJS is being loaded, scheduling callback at\", now());\n      return null;\n    }\n    if (js_urls == null || js_urls.length === 0) {\n      run_callbacks();\n      return null;\n    }\n    console.debug(\"Bokeh: BokehJS not loaded, scheduling load and callback at\", now());\n    root._bokeh_is_loading = css_urls.length + js_urls.length;\n\n    function on_load() {\n      root._bokeh_is_loading--;\n      if (root._bokeh_is_loading === 0) {\n        console.debug(\"Bokeh: all BokehJS libraries/stylesheets loaded\");\n        run_callbacks()\n      }\n    }\n\n    function on_error() {\n      console.error(\"failed to load \" + url);\n    }\n\n    for (var i = 0; i < css_urls.length; i++) {\n      var url = css_urls[i];\n      const element = document.createElement(\"link\");\n      element.onload = on_load;\n      element.onerror = on_error;\n      element.rel = \"stylesheet\";\n      element.type = \"text/css\";\n      element.href = url;\n      console.debug(\"Bokeh: injecting link tag for BokehJS stylesheet: \", url);\n      document.body.appendChild(element);\n    }\n\n    const hashes = {\"https://cdn.bokeh.org/bokeh/release/bokeh-2.1.1.min.js\": \"kLr4fYcqcSpbuI95brIH3vnnYCquzzSxHPU6XGQCIkQRGJwhg0StNbj1eegrHs12\", \"https://cdn.bokeh.org/bokeh/release/bokeh-widgets-2.1.1.min.js\": \"xIGPmVtaOm+z0BqfSOMn4lOR6ciex448GIKG4eE61LsAvmGj48XcMQZtKcE/UXZe\", \"https://cdn.bokeh.org/bokeh/release/bokeh-tables-2.1.1.min.js\": \"Dc9u1wF/0zApGIWoBbH77iWEHtdmkuYWG839Uzmv8y8yBLXebjO9ZnERsde5Ln/P\", \"https://cdn.bokeh.org/bokeh/release/bokeh-gl-2.1.1.min.js\": \"cT9JaBz7GiRXdENrJLZNSC6eMNF3nh3fa5fTF51Svp+ukxPdwcU5kGXGPBgDCa2j\"};\n\n    for (var i = 0; i < js_urls.length; i++) {\n      var url = js_urls[i];\n      var element = document.createElement('script');\n      element.onload = on_load;\n      element.onerror = on_error;\n      element.async = false;\n      element.src = url;\n      if (url in hashes) {\n        element.crossOrigin = \"anonymous\";\n        element.integrity = \"sha384-\" + hashes[url];\n      }\n      console.debug(\"Bokeh: injecting script tag for BokehJS library: \", url);\n      document.head.appendChild(element);\n    }\n  };\n\n  function inject_raw_css(css) {\n    const element = document.createElement(\"style\");\n    element.appendChild(document.createTextNode(css));\n    document.body.appendChild(element);\n  }\n\n  \n  var js_urls = [\"https://cdn.bokeh.org/bokeh/release/bokeh-2.1.1.min.js\", \"https://cdn.bokeh.org/bokeh/release/bokeh-widgets-2.1.1.min.js\", \"https://cdn.bokeh.org/bokeh/release/bokeh-tables-2.1.1.min.js\", \"https://cdn.bokeh.org/bokeh/release/bokeh-gl-2.1.1.min.js\"];\n  var css_urls = [];\n  \n\n  var inline_js = [\n    function(Bokeh) {\n      Bokeh.set_log_level(\"info\");\n    },\n    function(Bokeh) {\n    \n    \n    }\n  ];\n\n  function run_inline_js() {\n    \n    if (root.Bokeh !== undefined || force === true) {\n      \n    for (var i = 0; i < inline_js.length; i++) {\n      inline_js[i].call(root, root.Bokeh);\n    }\n    if (force === true) {\n        display_loaded();\n      }} else if (Date.now() < root._bokeh_timeout) {\n      setTimeout(run_inline_js, 100);\n    } else if (!root._bokeh_failed_load) {\n      console.log(\"Bokeh: BokehJS failed to load within specified timeout.\");\n      root._bokeh_failed_load = true;\n    } else if (force !== true) {\n      var cell = $(document.getElementById(\"1001\")).parents('.cell').data().cell;\n      cell.output_area.append_execute_result(NB_LOAD_WARNING)\n    }\n\n  }\n\n  if (root._bokeh_is_loading === 0) {\n    console.debug(\"Bokeh: BokehJS loaded, going straight to plotting\");\n    run_inline_js();\n  } else {\n    load_libs(css_urls, js_urls, function() {\n      console.debug(\"Bokeh: BokehJS plotting callback run at\", now());\n      run_inline_js();\n    });\n  }\n}(window));"
     },
     "metadata": {}
    }
   ],
   "source": [
    "# The figure will be rendered inline a my Jupyter Notebook\n",
    "output_notebook()\n",
    "\n",
    "# Use output_file('dash.html') to open in the browser"
   ]
  },
  {
   "cell_type": "code",
   "execution_count": 4,
   "metadata": {},
   "outputs": [
    {
     "output_type": "execute_result",
     "data": {
      "text/plain": [
       "            Player Pos Team  PassingYds  PassingTD  Int  PassingAtt   Cmp  \\\n",
       "0    Lamar Jackson  QB  BAL       324.0        5.0  0.0        20.0  17.0   \n",
       "1     Dak Prescott  QB  DAL       405.0        4.0  0.0        32.0  25.0   \n",
       "2   Robert Griffin  QB  BAL        55.0        1.0  0.0         6.0   6.0   \n",
       "3  Patrick Mahomes  QB  KAN       378.0        3.0  0.0        33.0  25.0   \n",
       "4     Kirk Cousins  QB  MIN        98.0        1.0  0.0        10.0   8.0   \n",
       "\n",
       "   RushingAtt  RushingYds  ...  Rec  Tgt  ReceivingYds  ReceivingTD   FL  \\\n",
       "0         3.0         6.0  ...  0.0  0.0           0.0          0.0  0.0   \n",
       "1         4.0        12.0  ...  0.0  0.0           0.0          0.0  0.0   \n",
       "2         4.0         9.0  ...  0.0  0.0           0.0          0.0  0.0   \n",
       "3         1.0         2.0  ...  0.0  0.0           0.0          0.0  0.0   \n",
       "4         6.0         4.0  ...  0.0  0.0           0.0          0.0  0.0   \n",
       "\n",
       "   PPRFantasyPoints  StandardFantasyPoints  HalfPPRFantasyPoints  Week  Year  \n",
       "0             33.56                  33.56                 33.56     1  2019  \n",
       "1             33.40                  33.40                 33.40     1  2019  \n",
       "2              7.10                   7.10                  7.10     1  2019  \n",
       "3             27.32                  27.32                 27.32     1  2019  \n",
       "4             14.32                  14.32                 14.32     1  2019  \n",
       "\n",
       "[5 rows x 21 columns]"
      ],
      "text/html": "<div>\n<style scoped>\n    .dataframe tbody tr th:only-of-type {\n        vertical-align: middle;\n    }\n\n    .dataframe tbody tr th {\n        vertical-align: top;\n    }\n\n    .dataframe thead th {\n        text-align: right;\n    }\n</style>\n<table border=\"1\" class=\"dataframe\">\n  <thead>\n    <tr style=\"text-align: right;\">\n      <th></th>\n      <th>Player</th>\n      <th>Pos</th>\n      <th>Team</th>\n      <th>PassingYds</th>\n      <th>PassingTD</th>\n      <th>Int</th>\n      <th>PassingAtt</th>\n      <th>Cmp</th>\n      <th>RushingAtt</th>\n      <th>RushingYds</th>\n      <th>...</th>\n      <th>Rec</th>\n      <th>Tgt</th>\n      <th>ReceivingYds</th>\n      <th>ReceivingTD</th>\n      <th>FL</th>\n      <th>PPRFantasyPoints</th>\n      <th>StandardFantasyPoints</th>\n      <th>HalfPPRFantasyPoints</th>\n      <th>Week</th>\n      <th>Year</th>\n    </tr>\n  </thead>\n  <tbody>\n    <tr>\n      <th>0</th>\n      <td>Lamar Jackson</td>\n      <td>QB</td>\n      <td>BAL</td>\n      <td>324.0</td>\n      <td>5.0</td>\n      <td>0.0</td>\n      <td>20.0</td>\n      <td>17.0</td>\n      <td>3.0</td>\n      <td>6.0</td>\n      <td>...</td>\n      <td>0.0</td>\n      <td>0.0</td>\n      <td>0.0</td>\n      <td>0.0</td>\n      <td>0.0</td>\n      <td>33.56</td>\n      <td>33.56</td>\n      <td>33.56</td>\n      <td>1</td>\n      <td>2019</td>\n    </tr>\n    <tr>\n      <th>1</th>\n      <td>Dak Prescott</td>\n      <td>QB</td>\n      <td>DAL</td>\n      <td>405.0</td>\n      <td>4.0</td>\n      <td>0.0</td>\n      <td>32.0</td>\n      <td>25.0</td>\n      <td>4.0</td>\n      <td>12.0</td>\n      <td>...</td>\n      <td>0.0</td>\n      <td>0.0</td>\n      <td>0.0</td>\n      <td>0.0</td>\n      <td>0.0</td>\n      <td>33.40</td>\n      <td>33.40</td>\n      <td>33.40</td>\n      <td>1</td>\n      <td>2019</td>\n    </tr>\n    <tr>\n      <th>2</th>\n      <td>Robert Griffin</td>\n      <td>QB</td>\n      <td>BAL</td>\n      <td>55.0</td>\n      <td>1.0</td>\n      <td>0.0</td>\n      <td>6.0</td>\n      <td>6.0</td>\n      <td>4.0</td>\n      <td>9.0</td>\n      <td>...</td>\n      <td>0.0</td>\n      <td>0.0</td>\n      <td>0.0</td>\n      <td>0.0</td>\n      <td>0.0</td>\n      <td>7.10</td>\n      <td>7.10</td>\n      <td>7.10</td>\n      <td>1</td>\n      <td>2019</td>\n    </tr>\n    <tr>\n      <th>3</th>\n      <td>Patrick Mahomes</td>\n      <td>QB</td>\n      <td>KAN</td>\n      <td>378.0</td>\n      <td>3.0</td>\n      <td>0.0</td>\n      <td>33.0</td>\n      <td>25.0</td>\n      <td>1.0</td>\n      <td>2.0</td>\n      <td>...</td>\n      <td>0.0</td>\n      <td>0.0</td>\n      <td>0.0</td>\n      <td>0.0</td>\n      <td>0.0</td>\n      <td>27.32</td>\n      <td>27.32</td>\n      <td>27.32</td>\n      <td>1</td>\n      <td>2019</td>\n    </tr>\n    <tr>\n      <th>4</th>\n      <td>Kirk Cousins</td>\n      <td>QB</td>\n      <td>MIN</td>\n      <td>98.0</td>\n      <td>1.0</td>\n      <td>0.0</td>\n      <td>10.0</td>\n      <td>8.0</td>\n      <td>6.0</td>\n      <td>4.0</td>\n      <td>...</td>\n      <td>0.0</td>\n      <td>0.0</td>\n      <td>0.0</td>\n      <td>0.0</td>\n      <td>0.0</td>\n      <td>14.32</td>\n      <td>14.32</td>\n      <td>14.32</td>\n      <td>1</td>\n      <td>2019</td>\n    </tr>\n  </tbody>\n</table>\n<p>5 rows × 21 columns</p>\n</div>"
     },
     "metadata": {},
     "execution_count": 4
    }
   ],
   "source": [
    "# Reading data\n",
    "df = pd.read_csv('../data/dash_sample_weekly_2019.csv')\n",
    "df.head()"
   ]
  },
  {
   "cell_type": "code",
   "execution_count": 5,
   "metadata": {},
   "outputs": [],
   "source": [
    "# Removing NaN \n",
    "df = df.dropna()"
   ]
  },
  {
   "cell_type": "code",
   "execution_count": 6,
   "metadata": {},
   "outputs": [
    {
     "output_type": "execute_result",
     "data": {
      "text/plain": [
       "        PassingYds    PassingTD          Int   PassingAtt          Cmp  \\\n",
       "count  4779.000000  4779.000000  4779.000000  4779.000000  4779.000000   \n",
       "mean     26.974472     0.166771     0.085792     3.735719     2.370998   \n",
       "std      80.650203     0.616856     0.396939    10.933560     6.993437   \n",
       "min      -2.000000     0.000000     0.000000     0.000000     0.000000   \n",
       "25%       0.000000     0.000000     0.000000     0.000000     0.000000   \n",
       "50%       0.000000     0.000000     0.000000     0.000000     0.000000   \n",
       "75%       0.000000     0.000000     0.000000     0.000000     0.000000   \n",
       "max     517.000000     5.000000     5.000000    68.000000    45.000000   \n",
       "\n",
       "        RushingAtt   RushingYds    RushingTD          Rec          Tgt  \\\n",
       "count  4779.000000  4779.000000  4779.000000  4779.000000  4779.000000   \n",
       "mean      2.801214    12.093116     0.093534     2.370998     3.467880   \n",
       "std       5.254732    25.969117     0.349966     2.357767     3.370824   \n",
       "min       0.000000   -10.000000     0.000000     0.000000     0.000000   \n",
       "25%       0.000000     0.000000     0.000000     1.000000     1.000000   \n",
       "50%       0.000000     0.000000     0.000000     2.000000     3.000000   \n",
       "75%       3.000000    11.000000     0.000000     4.000000     5.000000   \n",
       "max      32.000000   225.000000     4.000000    15.000000    20.000000   \n",
       "\n",
       "       ReceivingYds  ReceivingTD           FL  PPRFantasyPoints  \\\n",
       "count   4779.000000  4779.000000  4779.000000       4779.000000   \n",
       "mean      26.973635     0.166771     0.062984          9.288018   \n",
       "std       32.372313     0.433063     0.261224          8.185389   \n",
       "min       -9.000000     0.000000     0.000000         -6.660000   \n",
       "25%        1.000000     0.000000     0.000000          2.800000   \n",
       "50%       15.000000     0.000000     0.000000          7.100000   \n",
       "75%       40.000000     0.000000     0.000000         13.600000   \n",
       "max      226.000000     4.000000     3.000000         53.700000   \n",
       "\n",
       "       StandardFantasyPoints  HalfPPRFantasyPoints         Week    Year  \n",
       "count            4779.000000           4779.000000  4779.000000  4779.0  \n",
       "mean                6.917020              8.102519     9.071354  2019.0  \n",
       "std                 7.235407              7.634533     5.021275     0.0  \n",
       "min                -6.660000             -6.660000     1.000000  2019.0  \n",
       "25%                 1.400000              2.100000     5.000000  2019.0  \n",
       "50%                 4.400000              5.900000     9.000000  2019.0  \n",
       "75%                10.300000             12.000000    14.000000  2019.0  \n",
       "max                43.760000             46.700000    17.000000  2019.0  "
      ],
      "text/html": "<div>\n<style scoped>\n    .dataframe tbody tr th:only-of-type {\n        vertical-align: middle;\n    }\n\n    .dataframe tbody tr th {\n        vertical-align: top;\n    }\n\n    .dataframe thead th {\n        text-align: right;\n    }\n</style>\n<table border=\"1\" class=\"dataframe\">\n  <thead>\n    <tr style=\"text-align: right;\">\n      <th></th>\n      <th>PassingYds</th>\n      <th>PassingTD</th>\n      <th>Int</th>\n      <th>PassingAtt</th>\n      <th>Cmp</th>\n      <th>RushingAtt</th>\n      <th>RushingYds</th>\n      <th>RushingTD</th>\n      <th>Rec</th>\n      <th>Tgt</th>\n      <th>ReceivingYds</th>\n      <th>ReceivingTD</th>\n      <th>FL</th>\n      <th>PPRFantasyPoints</th>\n      <th>StandardFantasyPoints</th>\n      <th>HalfPPRFantasyPoints</th>\n      <th>Week</th>\n      <th>Year</th>\n    </tr>\n  </thead>\n  <tbody>\n    <tr>\n      <th>count</th>\n      <td>4779.000000</td>\n      <td>4779.000000</td>\n      <td>4779.000000</td>\n      <td>4779.000000</td>\n      <td>4779.000000</td>\n      <td>4779.000000</td>\n      <td>4779.000000</td>\n      <td>4779.000000</td>\n      <td>4779.000000</td>\n      <td>4779.000000</td>\n      <td>4779.000000</td>\n      <td>4779.000000</td>\n      <td>4779.000000</td>\n      <td>4779.000000</td>\n      <td>4779.000000</td>\n      <td>4779.000000</td>\n      <td>4779.000000</td>\n      <td>4779.0</td>\n    </tr>\n    <tr>\n      <th>mean</th>\n      <td>26.974472</td>\n      <td>0.166771</td>\n      <td>0.085792</td>\n      <td>3.735719</td>\n      <td>2.370998</td>\n      <td>2.801214</td>\n      <td>12.093116</td>\n      <td>0.093534</td>\n      <td>2.370998</td>\n      <td>3.467880</td>\n      <td>26.973635</td>\n      <td>0.166771</td>\n      <td>0.062984</td>\n      <td>9.288018</td>\n      <td>6.917020</td>\n      <td>8.102519</td>\n      <td>9.071354</td>\n      <td>2019.0</td>\n    </tr>\n    <tr>\n      <th>std</th>\n      <td>80.650203</td>\n      <td>0.616856</td>\n      <td>0.396939</td>\n      <td>10.933560</td>\n      <td>6.993437</td>\n      <td>5.254732</td>\n      <td>25.969117</td>\n      <td>0.349966</td>\n      <td>2.357767</td>\n      <td>3.370824</td>\n      <td>32.372313</td>\n      <td>0.433063</td>\n      <td>0.261224</td>\n      <td>8.185389</td>\n      <td>7.235407</td>\n      <td>7.634533</td>\n      <td>5.021275</td>\n      <td>0.0</td>\n    </tr>\n    <tr>\n      <th>min</th>\n      <td>-2.000000</td>\n      <td>0.000000</td>\n      <td>0.000000</td>\n      <td>0.000000</td>\n      <td>0.000000</td>\n      <td>0.000000</td>\n      <td>-10.000000</td>\n      <td>0.000000</td>\n      <td>0.000000</td>\n      <td>0.000000</td>\n      <td>-9.000000</td>\n      <td>0.000000</td>\n      <td>0.000000</td>\n      <td>-6.660000</td>\n      <td>-6.660000</td>\n      <td>-6.660000</td>\n      <td>1.000000</td>\n      <td>2019.0</td>\n    </tr>\n    <tr>\n      <th>25%</th>\n      <td>0.000000</td>\n      <td>0.000000</td>\n      <td>0.000000</td>\n      <td>0.000000</td>\n      <td>0.000000</td>\n      <td>0.000000</td>\n      <td>0.000000</td>\n      <td>0.000000</td>\n      <td>1.000000</td>\n      <td>1.000000</td>\n      <td>1.000000</td>\n      <td>0.000000</td>\n      <td>0.000000</td>\n      <td>2.800000</td>\n      <td>1.400000</td>\n      <td>2.100000</td>\n      <td>5.000000</td>\n      <td>2019.0</td>\n    </tr>\n    <tr>\n      <th>50%</th>\n      <td>0.000000</td>\n      <td>0.000000</td>\n      <td>0.000000</td>\n      <td>0.000000</td>\n      <td>0.000000</td>\n      <td>0.000000</td>\n      <td>0.000000</td>\n      <td>0.000000</td>\n      <td>2.000000</td>\n      <td>3.000000</td>\n      <td>15.000000</td>\n      <td>0.000000</td>\n      <td>0.000000</td>\n      <td>7.100000</td>\n      <td>4.400000</td>\n      <td>5.900000</td>\n      <td>9.000000</td>\n      <td>2019.0</td>\n    </tr>\n    <tr>\n      <th>75%</th>\n      <td>0.000000</td>\n      <td>0.000000</td>\n      <td>0.000000</td>\n      <td>0.000000</td>\n      <td>0.000000</td>\n      <td>3.000000</td>\n      <td>11.000000</td>\n      <td>0.000000</td>\n      <td>4.000000</td>\n      <td>5.000000</td>\n      <td>40.000000</td>\n      <td>0.000000</td>\n      <td>0.000000</td>\n      <td>13.600000</td>\n      <td>10.300000</td>\n      <td>12.000000</td>\n      <td>14.000000</td>\n      <td>2019.0</td>\n    </tr>\n    <tr>\n      <th>max</th>\n      <td>517.000000</td>\n      <td>5.000000</td>\n      <td>5.000000</td>\n      <td>68.000000</td>\n      <td>45.000000</td>\n      <td>32.000000</td>\n      <td>225.000000</td>\n      <td>4.000000</td>\n      <td>15.000000</td>\n      <td>20.000000</td>\n      <td>226.000000</td>\n      <td>4.000000</td>\n      <td>3.000000</td>\n      <td>53.700000</td>\n      <td>43.760000</td>\n      <td>46.700000</td>\n      <td>17.000000</td>\n      <td>2019.0</td>\n    </tr>\n  </tbody>\n</table>\n</div>"
     },
     "metadata": {},
     "execution_count": 6
    }
   ],
   "source": [
    "df.describe()"
   ]
  },
  {
   "cell_type": "code",
   "execution_count": 7,
   "metadata": {},
   "outputs": [
    {
     "output_type": "execute_result",
     "data": {
      "text/plain": [
       "                 PassingTD\n",
       "Player                    \n",
       "Lamar Jackson         36.0\n",
       "Jameis Winston        33.0\n",
       "Russell Wilson        31.0\n",
       "Dak Prescott          30.0\n",
       "Jimmy Garoppolo       27.0"
      ],
      "text/html": "<div>\n<style scoped>\n    .dataframe tbody tr th:only-of-type {\n        vertical-align: middle;\n    }\n\n    .dataframe tbody tr th {\n        vertical-align: top;\n    }\n\n    .dataframe thead th {\n        text-align: right;\n    }\n</style>\n<table border=\"1\" class=\"dataframe\">\n  <thead>\n    <tr style=\"text-align: right;\">\n      <th></th>\n      <th>PassingTD</th>\n    </tr>\n    <tr>\n      <th>Player</th>\n      <th></th>\n    </tr>\n  </thead>\n  <tbody>\n    <tr>\n      <th>Lamar Jackson</th>\n      <td>36.0</td>\n    </tr>\n    <tr>\n      <th>Jameis Winston</th>\n      <td>33.0</td>\n    </tr>\n    <tr>\n      <th>Russell Wilson</th>\n      <td>31.0</td>\n    </tr>\n    <tr>\n      <th>Dak Prescott</th>\n      <td>30.0</td>\n    </tr>\n    <tr>\n      <th>Jimmy Garoppolo</th>\n      <td>27.0</td>\n    </tr>\n  </tbody>\n</table>\n</div>"
     },
     "metadata": {},
     "execution_count": 7
    }
   ],
   "source": [
    "# Top 5 Players with the most Passing TD (all weeks combined)\n",
    "top_5_assists_overall = df.groupby('Player')[['PassingTD']].sum()\n",
    "top_5_assists_overall = top_5_assists_overall.sort_values(by='PassingTD', ascending=False).head(5)\n",
    "top_5_assists_overall"
   ]
  },
  {
   "cell_type": "code",
   "execution_count": 8,
   "metadata": {},
   "outputs": [
    {
     "output_type": "display_data",
     "data": {
      "text/html": "\n\n\n\n\n\n  <div class=\"bk-root\" id=\"2b730c88-9b36-4296-8364-ba10a40770ab\" data-root-id=\"1004\"></div>\n"
     },
     "metadata": {}
    },
    {
     "output_type": "display_data",
     "data": {
      "application/javascript": "(function(root) {\n  function embed_document(root) {\n    \n  var docs_json = {\"f2579f40-aad5-44b5-ac25-f4c4e547ee45\":{\"roots\":{\"references\":[{\"attributes\":{\"below\":[{\"id\":\"1015\"}],\"center\":[{\"id\":\"1018\"},{\"id\":\"1021\"}],\"left\":[{\"id\":\"1019\"}],\"plot_height\":500,\"renderers\":[{\"id\":\"1034\"}],\"sizing_mode\":\"stretch_width\",\"title\":{\"id\":\"1005\"},\"toolbar\":{\"id\":\"1025\"},\"x_range\":{\"id\":\"1007\"},\"x_scale\":{\"id\":\"1011\"},\"y_range\":{\"id\":\"1009\"},\"y_scale\":{\"id\":\"1013\"}},\"id\":\"1004\",\"subtype\":\"Figure\",\"type\":\"Plot\"},{\"attributes\":{\"fill_alpha\":{\"value\":0.8},\"fill_color\":{\"field\":\"Player\",\"transform\":{\"id\":\"1030\"}},\"height\":{\"value\":0.4},\"line_alpha\":{\"value\":0.8},\"line_color\":{\"value\":\"#1f77b4\"},\"right\":{\"field\":\"PassingTD\"},\"y\":{\"field\":\"Player\"}},\"id\":\"1032\",\"type\":\"HBar\"},{\"attributes\":{\"factors\":[\"Lamar Jackson\",\"Jameis Winston\",\"Russell Wilson\",\"Dak Prescott\",\"Jimmy Garoppolo\"],\"palette\":[\"#440154\",\"#3B518A\",\"#208F8C\",\"#5BC862\",\"#FDE724\"]},\"id\":\"1030\",\"type\":\"CategoricalColorMapper\"},{\"attributes\":{},\"id\":\"1016\",\"type\":\"BasicTicker\"},{\"attributes\":{\"factors\":[\"Lamar Jackson\",\"Jameis Winston\",\"Russell Wilson\",\"Dak Prescott\",\"Jimmy Garoppolo\"]},\"id\":\"1009\",\"type\":\"FactorRange\"},{\"attributes\":{},\"id\":\"1039\",\"type\":\"CategoricalTickFormatter\"},{\"attributes\":{\"axis\":{\"id\":\"1015\"},\"grid_line_color\":null,\"ticker\":null},\"id\":\"1018\",\"type\":\"Grid\"},{\"attributes\":{},\"id\":\"1013\",\"type\":\"CategoricalScale\"},{\"attributes\":{\"active_drag\":\"auto\",\"active_inspect\":\"auto\",\"active_multi\":null,\"active_scroll\":\"auto\",\"active_tap\":\"auto\",\"tools\":[{\"id\":\"1003\"},{\"id\":\"1022\"},{\"id\":\"1023\"},{\"id\":\"1024\"}]},\"id\":\"1025\",\"type\":\"Toolbar\"},{\"attributes\":{},\"id\":\"1007\",\"type\":\"DataRange1d\"},{\"attributes\":{},\"id\":\"1011\",\"type\":\"LinearScale\"},{\"attributes\":{\"callback\":null,\"tooltips\":[[\"Player\",\"@Player\"],[\"Passing TD\",\"@PassingTD\"]]},\"id\":\"1003\",\"type\":\"HoverTool\"},{\"attributes\":{},\"id\":\"1020\",\"type\":\"CategoricalTicker\"},{\"attributes\":{\"source\":{\"id\":\"1002\"}},\"id\":\"1035\",\"type\":\"CDSView\"},{\"attributes\":{\"formatter\":{\"id\":\"1039\"},\"ticker\":{\"id\":\"1020\"}},\"id\":\"1019\",\"type\":\"CategoricalAxis\"},{\"attributes\":{\"axis\":{\"id\":\"1019\"},\"dimension\":1,\"ticker\":null},\"id\":\"1021\",\"type\":\"Grid\"},{\"attributes\":{\"data\":{\"PassingTD\":{\"__ndarray__\":\"AAAAAAAAQkAAAAAAAIBAQAAAAAAAAD9AAAAAAAAAPkAAAAAAAAA7QA==\",\"dtype\":\"float64\",\"order\":\"little\",\"shape\":[5]},\"Player\":[\"Lamar Jackson\",\"Jameis Winston\",\"Russell Wilson\",\"Dak Prescott\",\"Jimmy Garoppolo\"]},\"selected\":{\"id\":\"1042\"},\"selection_policy\":{\"id\":\"1041\"}},\"id\":\"1002\",\"type\":\"ColumnDataSource\"},{\"attributes\":{\"fill_alpha\":{\"value\":0.1},\"fill_color\":{\"field\":\"Player\",\"transform\":{\"id\":\"1030\"}},\"height\":{\"value\":0.4},\"line_alpha\":{\"value\":0.1},\"line_color\":{\"value\":\"#1f77b4\"},\"right\":{\"field\":\"PassingTD\"},\"y\":{\"field\":\"Player\"}},\"id\":\"1033\",\"type\":\"HBar\"},{\"attributes\":{\"align\":\"center\",\"text\":\"TOP 5 PASSERS\",\"text_color\":{\"value\":\"#2e3333\"},\"text_font_size\":{\"value\":\"28px\"}},\"id\":\"1005\",\"type\":\"Title\"},{\"attributes\":{},\"id\":\"1022\",\"type\":\"SaveTool\"},{\"attributes\":{\"axis_label\":\"Passing TouchDowns\",\"formatter\":{\"id\":\"1037\"},\"ticker\":{\"id\":\"1016\"}},\"id\":\"1015\",\"type\":\"LinearAxis\"},{\"attributes\":{\"data_source\":{\"id\":\"1002\"},\"glyph\":{\"id\":\"1032\"},\"hover_glyph\":null,\"muted_glyph\":null,\"nonselection_glyph\":{\"id\":\"1033\"},\"selection_glyph\":null,\"view\":{\"id\":\"1035\"}},\"id\":\"1034\",\"type\":\"GlyphRenderer\"},{\"attributes\":{},\"id\":\"1023\",\"type\":\"ResetTool\"},{\"attributes\":{},\"id\":\"1024\",\"type\":\"WheelZoomTool\"},{\"attributes\":{},\"id\":\"1041\",\"type\":\"UnionRenderers\"},{\"attributes\":{},\"id\":\"1042\",\"type\":\"Selection\"},{\"attributes\":{},\"id\":\"1037\",\"type\":\"BasicTickFormatter\"}],\"root_ids\":[\"1004\"]},\"title\":\"Bokeh Application\",\"version\":\"2.1.1\"}};\n  var render_items = [{\"docid\":\"f2579f40-aad5-44b5-ac25-f4c4e547ee45\",\"root_ids\":[\"1004\"],\"roots\":{\"1004\":\"2b730c88-9b36-4296-8364-ba10a40770ab\"}}];\n  root.Bokeh.embed.embed_items_notebook(docs_json, render_items);\n\n  }\n  if (root.Bokeh !== undefined) {\n    embed_document(root);\n  } else {\n    var attempts = 0;\n    var timer = setInterval(function(root) {\n      if (root.Bokeh !== undefined) {\n        clearInterval(timer);\n        embed_document(root);\n      } else {\n        attempts++;\n        if (attempts > 100) {\n          clearInterval(timer);\n          console.log(\"Bokeh: ERROR: Unable to run BokehJS code because BokehJS library is missing\");\n        }\n      }\n    }, 10, root)\n  }\n})(window);",
      "application/vnd.bokehjs_exec.v0+json": ""
     },
     "metadata": {
      "application/vnd.bokehjs_exec.v0+json": {
       "id": "1004"
      }
     }
    }
   ],
   "source": [
    "# Plot - Top 5 Passers Overall \n",
    "\n",
    "top_5_assists_overall = pd.DataFrame(top_5_assists_overall)\n",
    "source = ColumnDataSource(top_5_assists_overall)\n",
    "\n",
    "hover = HoverTool(tooltips = [(\"Player\", \"@Player\"), (\"Passing TD\", \"@PassingTD\")])\n",
    "\n",
    "names_list = source.data['Player'].tolist()\n",
    "p1 = figure(\n",
    "       y_range=names_list,\n",
    "       title='TOP 5 PASSERS',\n",
    "       x_axis_label='Passing TouchDowns',\n",
    "       y_axis_label='',\n",
    "       plot_height=500,\n",
    "       sizing_mode=\"stretch_width\",\n",
    "       tools=[hover,'save', 'reset', 'wheel_zoom']\n",
    ")\n",
    "\n",
    "p1.hbar(y='Player', \n",
    "       right='PassingTD', \n",
    "       height=0.4, \n",
    "       fill_color=factor_cmap(\n",
    "              'Player',\n",
    "              palette=Viridis[5],\n",
    "              factors=names_list\n",
    "       ),\n",
    "       alpha=0.8,\n",
    "       source=source\n",
    ")\n",
    "\n",
    "p1.title.text_font_size='28px'\n",
    "p1.title.align='center'\n",
    "p1.title.text_color='#2e3333'\n",
    "p1.xgrid.grid_line_color=None\n",
    "\n",
    "show(p1)"
   ]
  },
  {
   "cell_type": "code",
   "execution_count": 9,
   "metadata": {},
   "outputs": [
    {
     "output_type": "execute_result",
     "data": {
      "text/plain": [
       "                 Int\n",
       "Player              \n",
       "Jameis Winston  30.0\n",
       "Baker Mayfield  21.0\n",
       "Philip Rivers   20.0\n",
       "Jared Goff      16.0\n",
       "Kyle Allen      16.0"
      ],
      "text/html": "<div>\n<style scoped>\n    .dataframe tbody tr th:only-of-type {\n        vertical-align: middle;\n    }\n\n    .dataframe tbody tr th {\n        vertical-align: top;\n    }\n\n    .dataframe thead th {\n        text-align: right;\n    }\n</style>\n<table border=\"1\" class=\"dataframe\">\n  <thead>\n    <tr style=\"text-align: right;\">\n      <th></th>\n      <th>Int</th>\n    </tr>\n    <tr>\n      <th>Player</th>\n      <th></th>\n    </tr>\n  </thead>\n  <tbody>\n    <tr>\n      <th>Jameis Winston</th>\n      <td>30.0</td>\n    </tr>\n    <tr>\n      <th>Baker Mayfield</th>\n      <td>21.0</td>\n    </tr>\n    <tr>\n      <th>Philip Rivers</th>\n      <td>20.0</td>\n    </tr>\n    <tr>\n      <th>Jared Goff</th>\n      <td>16.0</td>\n    </tr>\n    <tr>\n      <th>Kyle Allen</th>\n      <td>16.0</td>\n    </tr>\n  </tbody>\n</table>\n</div>"
     },
     "metadata": {},
     "execution_count": 9
    }
   ],
   "source": [
    "# Top 5 Players With Most Interceptions\n",
    "top_5_interceptions = df.groupby('Player')[['Int']].sum()\n",
    "top_5_interceptions = top_5_interceptions.sort_values(by='Int', ascending=False).head(5)\n",
    "top_5_interceptions"
   ]
  },
  {
   "cell_type": "code",
   "execution_count": 10,
   "metadata": {},
   "outputs": [
    {
     "output_type": "display_data",
     "data": {
      "text/html": "\n\n\n\n\n\n  <div class=\"bk-root\" id=\"9f1c1321-9f16-4f5e-83c9-ff9492e4dfdf\" data-root-id=\"1087\"></div>\n"
     },
     "metadata": {}
    },
    {
     "output_type": "display_data",
     "data": {
      "application/javascript": "(function(root) {\n  function embed_document(root) {\n    \n  var docs_json = {\"675857c1-a555-47a5-8a12-9975e2a2261e\":{\"roots\":{\"references\":[{\"attributes\":{\"below\":[{\"id\":\"1098\"}],\"center\":[{\"id\":\"1101\"},{\"id\":\"1104\"}],\"left\":[{\"id\":\"1102\"}],\"plot_height\":500,\"renderers\":[{\"id\":\"1117\"}],\"sizing_mode\":\"stretch_width\",\"title\":{\"id\":\"1088\"},\"toolbar\":{\"id\":\"1108\"},\"x_range\":{\"id\":\"1090\"},\"x_scale\":{\"id\":\"1094\"},\"y_range\":{\"id\":\"1092\"},\"y_scale\":{\"id\":\"1096\"}},\"id\":\"1087\",\"subtype\":\"Figure\",\"type\":\"Plot\"},{\"attributes\":{},\"id\":\"1105\",\"type\":\"SaveTool\"},{\"attributes\":{\"callback\":null,\"tooltips\":[[\"Player\",\"@Player\"],[\"Interceptions\",\"@Int\"]]},\"id\":\"1086\",\"type\":\"HoverTool\"},{\"attributes\":{},\"id\":\"1129\",\"type\":\"CategoricalTickFormatter\"},{\"attributes\":{\"data\":{\"Int\":{\"__ndarray__\":\"AAAAAAAAPkAAAAAAAAA1QAAAAAAAADRAAAAAAAAAMEAAAAAAAAAwQA==\",\"dtype\":\"float64\",\"order\":\"little\",\"shape\":[5]},\"Player\":[\"Jameis Winston\",\"Baker Mayfield\",\"Philip Rivers\",\"Jared Goff\",\"Kyle Allen\"]},\"selected\":{\"id\":\"1132\"},\"selection_policy\":{\"id\":\"1131\"}},\"id\":\"1085\",\"type\":\"ColumnDataSource\"},{\"attributes\":{},\"id\":\"1106\",\"type\":\"ResetTool\"},{\"attributes\":{\"align\":\"center\",\"text\":\"TOP 5 INTERCEPTORS\",\"text_color\":{\"value\":\"#2e3333\"},\"text_font_size\":{\"value\":\"28px\"}},\"id\":\"1088\",\"type\":\"Title\"},{\"attributes\":{\"factors\":[\"Jameis Winston\",\"Baker Mayfield\",\"Philip Rivers\",\"Jared Goff\",\"Kyle Allen\"]},\"id\":\"1092\",\"type\":\"FactorRange\"},{\"attributes\":{},\"id\":\"1096\",\"type\":\"CategoricalScale\"},{\"attributes\":{},\"id\":\"1107\",\"type\":\"WheelZoomTool\"},{\"attributes\":{},\"id\":\"1099\",\"type\":\"BasicTicker\"},{\"attributes\":{\"active_drag\":\"auto\",\"active_inspect\":\"auto\",\"active_multi\":null,\"active_scroll\":\"auto\",\"active_tap\":\"auto\",\"tools\":[{\"id\":\"1086\"},{\"id\":\"1105\"},{\"id\":\"1106\"},{\"id\":\"1107\"}]},\"id\":\"1108\",\"type\":\"Toolbar\"},{\"attributes\":{},\"id\":\"1094\",\"type\":\"LinearScale\"},{\"attributes\":{},\"id\":\"1090\",\"type\":\"DataRange1d\"},{\"attributes\":{},\"id\":\"1103\",\"type\":\"CategoricalTicker\"},{\"attributes\":{\"factors\":[\"Jameis Winston\",\"Baker Mayfield\",\"Philip Rivers\",\"Jared Goff\",\"Kyle Allen\"],\"palette\":[\"#440154\",\"#3B518A\",\"#208F8C\",\"#5BC862\",\"#FDE724\"]},\"id\":\"1113\",\"type\":\"CategoricalColorMapper\"},{\"attributes\":{\"fill_alpha\":{\"value\":0.8},\"fill_color\":{\"field\":\"Player\",\"transform\":{\"id\":\"1113\"}},\"height\":{\"value\":0.4},\"line_alpha\":{\"value\":0.8},\"line_color\":{\"value\":\"#1f77b4\"},\"right\":{\"field\":\"Int\"},\"y\":{\"field\":\"Player\"}},\"id\":\"1115\",\"type\":\"HBar\"},{\"attributes\":{\"formatter\":{\"id\":\"1129\"},\"ticker\":{\"id\":\"1103\"}},\"id\":\"1102\",\"type\":\"CategoricalAxis\"},{\"attributes\":{},\"id\":\"1131\",\"type\":\"UnionRenderers\"},{\"attributes\":{},\"id\":\"1132\",\"type\":\"Selection\"},{\"attributes\":{\"fill_alpha\":{\"value\":0.1},\"fill_color\":{\"field\":\"Player\",\"transform\":{\"id\":\"1113\"}},\"height\":{\"value\":0.4},\"line_alpha\":{\"value\":0.1},\"line_color\":{\"value\":\"#1f77b4\"},\"right\":{\"field\":\"Int\"},\"y\":{\"field\":\"Player\"}},\"id\":\"1116\",\"type\":\"HBar\"},{\"attributes\":{\"source\":{\"id\":\"1085\"}},\"id\":\"1118\",\"type\":\"CDSView\"},{\"attributes\":{\"axis_label\":\"Interceptions\",\"formatter\":{\"id\":\"1127\"},\"ticker\":{\"id\":\"1099\"}},\"id\":\"1098\",\"type\":\"LinearAxis\"},{\"attributes\":{\"axis\":{\"id\":\"1102\"},\"dimension\":1,\"ticker\":null},\"id\":\"1104\",\"type\":\"Grid\"},{\"attributes\":{\"data_source\":{\"id\":\"1085\"},\"glyph\":{\"id\":\"1115\"},\"hover_glyph\":null,\"muted_glyph\":null,\"nonselection_glyph\":{\"id\":\"1116\"},\"selection_glyph\":null,\"view\":{\"id\":\"1118\"}},\"id\":\"1117\",\"type\":\"GlyphRenderer\"},{\"attributes\":{},\"id\":\"1127\",\"type\":\"BasicTickFormatter\"},{\"attributes\":{\"axis\":{\"id\":\"1098\"},\"grid_line_color\":null,\"ticker\":null},\"id\":\"1101\",\"type\":\"Grid\"}],\"root_ids\":[\"1087\"]},\"title\":\"Bokeh Application\",\"version\":\"2.1.1\"}};\n  var render_items = [{\"docid\":\"675857c1-a555-47a5-8a12-9975e2a2261e\",\"root_ids\":[\"1087\"],\"roots\":{\"1087\":\"9f1c1321-9f16-4f5e-83c9-ff9492e4dfdf\"}}];\n  root.Bokeh.embed.embed_items_notebook(docs_json, render_items);\n\n  }\n  if (root.Bokeh !== undefined) {\n    embed_document(root);\n  } else {\n    var attempts = 0;\n    var timer = setInterval(function(root) {\n      if (root.Bokeh !== undefined) {\n        clearInterval(timer);\n        embed_document(root);\n      } else {\n        attempts++;\n        if (attempts > 100) {\n          clearInterval(timer);\n          console.log(\"Bokeh: ERROR: Unable to run BokehJS code because BokehJS library is missing\");\n        }\n      }\n    }, 10, root)\n  }\n})(window);",
      "application/vnd.bokehjs_exec.v0+json": ""
     },
     "metadata": {
      "application/vnd.bokehjs_exec.v0+json": {
       "id": "1087"
      }
     }
    }
   ],
   "source": [
    "# Plot - Top 5 Passers Overall\n",
    "\n",
    "top_5_interceptions = pd.DataFrame(top_5_interceptions)\n",
    "source = ColumnDataSource(top_5_interceptions)\n",
    "\n",
    "hover = HoverTool(tooltips = [(\"Player\", \"@Player\"), (\"Interceptions\", \"@Int\")])\n",
    "\n",
    "names_list = source.data['Player'].tolist()\n",
    "p2 = figure(\n",
    "       y_range=names_list,\n",
    "       title='TOP 5 INTERCEPTORS',\n",
    "       x_axis_label='Interceptions',\n",
    "       y_axis_label='',\n",
    "       plot_height=500,\n",
    "       sizing_mode=\"stretch_width\",\n",
    "       tools=[hover,'save', 'reset', 'wheel_zoom']\n",
    ")\n",
    "\n",
    "p2.hbar(y='Player', \n",
    "       right='Int', \n",
    "       height=0.4, \n",
    "       fill_color=factor_cmap(\n",
    "              'Player',\n",
    "              palette=Viridis[5],\n",
    "              factors=names_list\n",
    "       ),\n",
    "       alpha=0.8,\n",
    "       source=source\n",
    ")\n",
    "\n",
    "p2.title.text_font_size='28px'\n",
    "p2.title.align='center'\n",
    "p2.title.text_color='#2e3333'\n",
    "p2.xgrid.grid_line_color=None\n",
    "\n",
    "show(p2)"
   ]
  },
  {
   "cell_type": "code",
   "execution_count": 11,
   "metadata": {},
   "outputs": [
    {
     "output_type": "execute_result",
     "data": {
      "text/plain": [
       "                   FL\n",
       "Player               \n",
       "Daniel Jones     11.0\n",
       "Kyle Allen        7.0\n",
       "Carson Wentz      7.0\n",
       "Gardner Minshew   7.0\n",
       "Jameis Winston    5.0"
      ],
      "text/html": "<div>\n<style scoped>\n    .dataframe tbody tr th:only-of-type {\n        vertical-align: middle;\n    }\n\n    .dataframe tbody tr th {\n        vertical-align: top;\n    }\n\n    .dataframe thead th {\n        text-align: right;\n    }\n</style>\n<table border=\"1\" class=\"dataframe\">\n  <thead>\n    <tr style=\"text-align: right;\">\n      <th></th>\n      <th>FL</th>\n    </tr>\n    <tr>\n      <th>Player</th>\n      <th></th>\n    </tr>\n  </thead>\n  <tbody>\n    <tr>\n      <th>Daniel Jones</th>\n      <td>11.0</td>\n    </tr>\n    <tr>\n      <th>Kyle Allen</th>\n      <td>7.0</td>\n    </tr>\n    <tr>\n      <th>Carson Wentz</th>\n      <td>7.0</td>\n    </tr>\n    <tr>\n      <th>Gardner Minshew</th>\n      <td>7.0</td>\n    </tr>\n    <tr>\n      <th>Jameis Winston</th>\n      <td>5.0</td>\n    </tr>\n  </tbody>\n</table>\n</div>"
     },
     "metadata": {},
     "execution_count": 11
    }
   ],
   "source": [
    "# Top 5 Players With Most Fumbles (all weeks combined)\n",
    "top_5_fumbles = df.groupby('Player')[['FL']].sum()\n",
    "top_5_fumbles = top_5_fumbles.sort_values(by='FL', ascending=False).head(5)\n",
    "top_5_fumbles"
   ]
  },
  {
   "cell_type": "code",
   "execution_count": 12,
   "metadata": {},
   "outputs": [
    {
     "output_type": "display_data",
     "data": {
      "text/html": "\n\n\n\n\n\n  <div class=\"bk-root\" id=\"7e5ac0ae-8cdb-4db7-b671-09005ce9c8ca\" data-root-id=\"1177\"></div>\n"
     },
     "metadata": {}
    },
    {
     "output_type": "display_data",
     "data": {
      "application/javascript": "(function(root) {\n  function embed_document(root) {\n    \n  var docs_json = {\"242d91b6-c975-4738-9ce8-fd6865a5a4a5\":{\"roots\":{\"references\":[{\"attributes\":{\"below\":[{\"id\":\"1188\"}],\"center\":[{\"id\":\"1191\"},{\"id\":\"1194\"}],\"left\":[{\"id\":\"1192\"}],\"plot_height\":500,\"renderers\":[{\"id\":\"1207\"}],\"sizing_mode\":\"stretch_width\",\"title\":{\"id\":\"1178\"},\"toolbar\":{\"id\":\"1198\"},\"x_range\":{\"id\":\"1180\"},\"x_scale\":{\"id\":\"1184\"},\"y_range\":{\"id\":\"1182\"},\"y_scale\":{\"id\":\"1186\"}},\"id\":\"1177\",\"subtype\":\"Figure\",\"type\":\"Plot\"},{\"attributes\":{\"formatter\":{\"id\":\"1226\"},\"ticker\":{\"id\":\"1193\"}},\"id\":\"1192\",\"type\":\"CategoricalAxis\"},{\"attributes\":{\"active_drag\":\"auto\",\"active_inspect\":\"auto\",\"active_multi\":null,\"active_scroll\":\"auto\",\"active_tap\":\"auto\",\"tools\":[{\"id\":\"1176\"},{\"id\":\"1195\"},{\"id\":\"1196\"},{\"id\":\"1197\"}]},\"id\":\"1198\",\"type\":\"Toolbar\"},{\"attributes\":{},\"id\":\"1196\",\"type\":\"ResetTool\"},{\"attributes\":{},\"id\":\"1226\",\"type\":\"CategoricalTickFormatter\"},{\"attributes\":{},\"id\":\"1224\",\"type\":\"BasicTickFormatter\"},{\"attributes\":{\"fill_alpha\":{\"value\":0.1},\"fill_color\":{\"field\":\"Player\",\"transform\":{\"id\":\"1203\"}},\"height\":{\"value\":0.4},\"line_alpha\":{\"value\":0.1},\"line_color\":{\"value\":\"#1f77b4\"},\"right\":{\"field\":\"FL\"},\"y\":{\"field\":\"Player\"}},\"id\":\"1206\",\"type\":\"HBar\"},{\"attributes\":{\"data\":{\"FL\":{\"__ndarray__\":\"AAAAAAAAJkAAAAAAAAAcQAAAAAAAABxAAAAAAAAAHEAAAAAAAAAUQA==\",\"dtype\":\"float64\",\"order\":\"little\",\"shape\":[5]},\"Player\":[\"Daniel Jones\",\"Kyle Allen\",\"Carson Wentz\",\"Gardner Minshew\",\"Jameis Winston\"]},\"selected\":{\"id\":\"1229\"},\"selection_policy\":{\"id\":\"1228\"}},\"id\":\"1175\",\"type\":\"ColumnDataSource\"},{\"attributes\":{},\"id\":\"1195\",\"type\":\"SaveTool\"},{\"attributes\":{\"factors\":[\"Daniel Jones\",\"Kyle Allen\",\"Carson Wentz\",\"Gardner Minshew\",\"Jameis Winston\"]},\"id\":\"1182\",\"type\":\"FactorRange\"},{\"attributes\":{\"fill_alpha\":{\"value\":0.8},\"fill_color\":{\"field\":\"Player\",\"transform\":{\"id\":\"1203\"}},\"height\":{\"value\":0.4},\"line_alpha\":{\"value\":0.8},\"line_color\":{\"value\":\"#1f77b4\"},\"right\":{\"field\":\"FL\"},\"y\":{\"field\":\"Player\"}},\"id\":\"1205\",\"type\":\"HBar\"},{\"attributes\":{\"callback\":null,\"tooltips\":[[\"Player\",\"@Player\"],[\"Fumbles\",\"@FL\"]]},\"id\":\"1176\",\"type\":\"HoverTool\"},{\"attributes\":{},\"id\":\"1197\",\"type\":\"WheelZoomTool\"},{\"attributes\":{\"factors\":[\"Daniel Jones\",\"Kyle Allen\",\"Carson Wentz\",\"Gardner Minshew\",\"Jameis Winston\"],\"palette\":[\"#440154\",\"#3B518A\",\"#208F8C\",\"#5BC862\",\"#FDE724\"]},\"id\":\"1203\",\"type\":\"CategoricalColorMapper\"},{\"attributes\":{},\"id\":\"1184\",\"type\":\"LinearScale\"},{\"attributes\":{\"data_source\":{\"id\":\"1175\"},\"glyph\":{\"id\":\"1205\"},\"hover_glyph\":null,\"muted_glyph\":null,\"nonselection_glyph\":{\"id\":\"1206\"},\"selection_glyph\":null,\"view\":{\"id\":\"1208\"}},\"id\":\"1207\",\"type\":\"GlyphRenderer\"},{\"attributes\":{},\"id\":\"1228\",\"type\":\"UnionRenderers\"},{\"attributes\":{\"source\":{\"id\":\"1175\"}},\"id\":\"1208\",\"type\":\"CDSView\"},{\"attributes\":{},\"id\":\"1186\",\"type\":\"CategoricalScale\"},{\"attributes\":{},\"id\":\"1229\",\"type\":\"Selection\"},{\"attributes\":{},\"id\":\"1180\",\"type\":\"DataRange1d\"},{\"attributes\":{\"align\":\"center\",\"text\":\"TOP 5 FUMBLES\",\"text_color\":{\"value\":\"#2e3333\"},\"text_font_size\":{\"value\":\"28px\"}},\"id\":\"1178\",\"type\":\"Title\"},{\"attributes\":{\"axis_label\":\"Fumbles\",\"formatter\":{\"id\":\"1224\"},\"ticker\":{\"id\":\"1189\"}},\"id\":\"1188\",\"type\":\"LinearAxis\"},{\"attributes\":{},\"id\":\"1193\",\"type\":\"CategoricalTicker\"},{\"attributes\":{},\"id\":\"1189\",\"type\":\"BasicTicker\"},{\"attributes\":{\"axis\":{\"id\":\"1188\"},\"grid_line_color\":null,\"ticker\":null},\"id\":\"1191\",\"type\":\"Grid\"},{\"attributes\":{\"axis\":{\"id\":\"1192\"},\"dimension\":1,\"ticker\":null},\"id\":\"1194\",\"type\":\"Grid\"}],\"root_ids\":[\"1177\"]},\"title\":\"Bokeh Application\",\"version\":\"2.1.1\"}};\n  var render_items = [{\"docid\":\"242d91b6-c975-4738-9ce8-fd6865a5a4a5\",\"root_ids\":[\"1177\"],\"roots\":{\"1177\":\"7e5ac0ae-8cdb-4db7-b671-09005ce9c8ca\"}}];\n  root.Bokeh.embed.embed_items_notebook(docs_json, render_items);\n\n  }\n  if (root.Bokeh !== undefined) {\n    embed_document(root);\n  } else {\n    var attempts = 0;\n    var timer = setInterval(function(root) {\n      if (root.Bokeh !== undefined) {\n        clearInterval(timer);\n        embed_document(root);\n      } else {\n        attempts++;\n        if (attempts > 100) {\n          clearInterval(timer);\n          console.log(\"Bokeh: ERROR: Unable to run BokehJS code because BokehJS library is missing\");\n        }\n      }\n    }, 10, root)\n  }\n})(window);",
      "application/vnd.bokehjs_exec.v0+json": ""
     },
     "metadata": {
      "application/vnd.bokehjs_exec.v0+json": {
       "id": "1177"
      }
     }
    }
   ],
   "source": [
    "# Plot - Top 5 Fumbles\n",
    "\n",
    "top_5_fumbles = pd.DataFrame(top_5_fumbles)\n",
    "source = ColumnDataSource(top_5_fumbles)\n",
    "\n",
    "hover = HoverTool(tooltips = [(\"Player\", \"@Player\"), (\"Fumbles\", \"@FL\")])\n",
    "\n",
    "names_list = source.data['Player'].tolist()\n",
    "p3 = figure(\n",
    "       y_range=names_list,\n",
    "       title='TOP 5 FUMBLES',\n",
    "       x_axis_label='Fumbles',\n",
    "       y_axis_label='',\n",
    "       plot_height=500,\n",
    "       sizing_mode=\"stretch_width\",\n",
    "       tools=[hover,'save', 'reset', 'wheel_zoom']\n",
    ")\n",
    "\n",
    "p3.hbar(y='Player', \n",
    "       right='FL', \n",
    "       height=0.4, \n",
    "       fill_color=factor_cmap(\n",
    "              'Player',\n",
    "              palette=Viridis[5],\n",
    "              factors=names_list\n",
    "       ),\n",
    "       alpha=0.8,\n",
    "       source=source\n",
    ")\n",
    "\n",
    "p3.title.text_font_size='28px'\n",
    "p3.title.align='center'\n",
    "p3.title.text_color='#2e3333'\n",
    "p3.xgrid.grid_line_color=None\n",
    "\n",
    "\n",
    "show(p3)"
   ]
  },
  {
   "cell_type": "code",
   "execution_count": 13,
   "metadata": {},
   "outputs": [
    {
     "output_type": "display_data",
     "data": {
      "text/html": "\n\n\n\n\n\n  <div class=\"bk-root\" id=\"97f09ee0-5eb3-448b-8623-e37a8ce816de\" data-root-id=\"1275\"></div>\n"
     },
     "metadata": {}
    },
    {
     "output_type": "display_data",
     "data": {
      "application/javascript": "(function(root) {\n  function embed_document(root) {\n    \n  var docs_json = {\"fb3d1f5c-3456-4ecc-8fa7-87f7d19e9f64\":{\"roots\":{\"references\":[{\"attributes\":{\"tabs\":[{\"id\":\"1272\"},{\"id\":\"1273\"},{\"id\":\"1274\"}]},\"id\":\"1275\",\"type\":\"Tabs\"},{\"attributes\":{\"fill_alpha\":{\"value\":0.8},\"fill_color\":{\"field\":\"Player\",\"transform\":{\"id\":\"1030\"}},\"height\":{\"value\":0.4},\"line_alpha\":{\"value\":0.8},\"line_color\":{\"value\":\"#1f77b4\"},\"right\":{\"field\":\"PassingTD\"},\"y\":{\"field\":\"Player\"}},\"id\":\"1032\",\"type\":\"HBar\"},{\"attributes\":{},\"id\":\"1105\",\"type\":\"SaveTool\"},{\"attributes\":{\"factors\":[\"Lamar Jackson\",\"Jameis Winston\",\"Russell Wilson\",\"Dak Prescott\",\"Jimmy Garoppolo\"],\"palette\":[\"#440154\",\"#3B518A\",\"#208F8C\",\"#5BC862\",\"#FDE724\"]},\"id\":\"1030\",\"type\":\"CategoricalColorMapper\"},{\"attributes\":{\"below\":[{\"id\":\"1015\"}],\"center\":[{\"id\":\"1018\"},{\"id\":\"1021\"}],\"left\":[{\"id\":\"1019\"}],\"plot_height\":500,\"renderers\":[{\"id\":\"1034\"}],\"sizing_mode\":\"stretch_width\",\"title\":{\"id\":\"1005\"},\"toolbar\":{\"id\":\"1025\"},\"x_range\":{\"id\":\"1007\"},\"x_scale\":{\"id\":\"1011\"},\"y_range\":{\"id\":\"1009\"},\"y_scale\":{\"id\":\"1013\"}},\"id\":\"1004\",\"subtype\":\"Figure\",\"type\":\"Plot\"},{\"attributes\":{},\"id\":\"1129\",\"type\":\"CategoricalTickFormatter\"},{\"attributes\":{\"factors\":[\"Lamar Jackson\",\"Jameis Winston\",\"Russell Wilson\",\"Dak Prescott\",\"Jimmy Garoppolo\"]},\"id\":\"1009\",\"type\":\"FactorRange\"},{\"attributes\":{},\"id\":\"1106\",\"type\":\"ResetTool\"},{\"attributes\":{\"axis\":{\"id\":\"1015\"},\"grid_line_color\":null,\"ticker\":null},\"id\":\"1018\",\"type\":\"Grid\"},{\"attributes\":{},\"id\":\"1013\",\"type\":\"CategoricalScale\"},{\"attributes\":{},\"id\":\"1007\",\"type\":\"DataRange1d\"},{\"attributes\":{},\"id\":\"1011\",\"type\":\"LinearScale\"},{\"attributes\":{},\"id\":\"1107\",\"type\":\"WheelZoomTool\"},{\"attributes\":{},\"id\":\"1020\",\"type\":\"CategoricalTicker\"},{\"attributes\":{\"formatter\":{\"id\":\"1039\"},\"ticker\":{\"id\":\"1020\"}},\"id\":\"1019\",\"type\":\"CategoricalAxis\"},{\"attributes\":{\"axis\":{\"id\":\"1019\"},\"dimension\":1,\"ticker\":null},\"id\":\"1021\",\"type\":\"Grid\"},{\"attributes\":{\"active_drag\":\"auto\",\"active_inspect\":\"auto\",\"active_multi\":null,\"active_scroll\":\"auto\",\"active_tap\":\"auto\",\"tools\":[{\"id\":\"1086\"},{\"id\":\"1105\"},{\"id\":\"1106\"},{\"id\":\"1107\"}]},\"id\":\"1108\",\"type\":\"Toolbar\"},{\"attributes\":{},\"id\":\"1022\",\"type\":\"SaveTool\"},{\"attributes\":{},\"id\":\"1103\",\"type\":\"CategoricalTicker\"},{\"attributes\":{},\"id\":\"1023\",\"type\":\"ResetTool\"},{\"attributes\":{},\"id\":\"1024\",\"type\":\"WheelZoomTool\"},{\"attributes\":{\"fill_alpha\":{\"value\":0.1},\"fill_color\":{\"field\":\"Player\",\"transform\":{\"id\":\"1113\"}},\"height\":{\"value\":0.4},\"line_alpha\":{\"value\":0.1},\"line_color\":{\"value\":\"#1f77b4\"},\"right\":{\"field\":\"Int\"},\"y\":{\"field\":\"Player\"}},\"id\":\"1116\",\"type\":\"HBar\"},{\"attributes\":{\"source\":{\"id\":\"1085\"}},\"id\":\"1118\",\"type\":\"CDSView\"},{\"attributes\":{\"axis_label\":\"Interceptions\",\"formatter\":{\"id\":\"1127\"},\"ticker\":{\"id\":\"1099\"}},\"id\":\"1098\",\"type\":\"LinearAxis\"},{\"attributes\":{\"data_source\":{\"id\":\"1085\"},\"glyph\":{\"id\":\"1115\"},\"hover_glyph\":null,\"muted_glyph\":null,\"nonselection_glyph\":{\"id\":\"1116\"},\"selection_glyph\":null,\"view\":{\"id\":\"1118\"}},\"id\":\"1117\",\"type\":\"GlyphRenderer\"},{\"attributes\":{\"callback\":null,\"tooltips\":[[\"Player\",\"@Player\"],[\"Interceptions\",\"@Int\"]]},\"id\":\"1086\",\"type\":\"HoverTool\"},{\"attributes\":{\"data\":{\"Int\":{\"__ndarray__\":\"AAAAAAAAPkAAAAAAAAA1QAAAAAAAADRAAAAAAAAAMEAAAAAAAAAwQA==\",\"dtype\":\"float64\",\"order\":\"little\",\"shape\":[5]},\"Player\":[\"Jameis Winston\",\"Baker Mayfield\",\"Philip Rivers\",\"Jared Goff\",\"Kyle Allen\"]},\"selected\":{\"id\":\"1132\"},\"selection_policy\":{\"id\":\"1131\"}},\"id\":\"1085\",\"type\":\"ColumnDataSource\"},{\"attributes\":{\"align\":\"center\",\"text\":\"TOP 5 INTERCEPTORS\",\"text_color\":{\"value\":\"#2e3333\"},\"text_font_size\":{\"value\":\"28px\"}},\"id\":\"1088\",\"type\":\"Title\"},{\"attributes\":{\"factors\":[\"Jameis Winston\",\"Baker Mayfield\",\"Philip Rivers\",\"Jared Goff\",\"Kyle Allen\"]},\"id\":\"1092\",\"type\":\"FactorRange\"},{\"attributes\":{\"active_drag\":\"auto\",\"active_inspect\":\"auto\",\"active_multi\":null,\"active_scroll\":\"auto\",\"active_tap\":\"auto\",\"tools\":[{\"id\":\"1003\"},{\"id\":\"1022\"},{\"id\":\"1023\"},{\"id\":\"1024\"}]},\"id\":\"1025\",\"type\":\"Toolbar\"},{\"attributes\":{},\"id\":\"1096\",\"type\":\"CategoricalScale\"},{\"attributes\":{\"source\":{\"id\":\"1002\"}},\"id\":\"1035\",\"type\":\"CDSView\"},{\"attributes\":{},\"id\":\"1099\",\"type\":\"BasicTicker\"},{\"attributes\":{\"below\":[{\"id\":\"1098\"}],\"center\":[{\"id\":\"1101\"},{\"id\":\"1104\"}],\"left\":[{\"id\":\"1102\"}],\"plot_height\":500,\"renderers\":[{\"id\":\"1117\"}],\"sizing_mode\":\"stretch_width\",\"title\":{\"id\":\"1088\"},\"toolbar\":{\"id\":\"1108\"},\"x_range\":{\"id\":\"1090\"},\"x_scale\":{\"id\":\"1094\"},\"y_range\":{\"id\":\"1092\"},\"y_scale\":{\"id\":\"1096\"}},\"id\":\"1087\",\"subtype\":\"Figure\",\"type\":\"Plot\"},{\"attributes\":{\"fill_alpha\":{\"value\":0.1},\"fill_color\":{\"field\":\"Player\",\"transform\":{\"id\":\"1030\"}},\"height\":{\"value\":0.4},\"line_alpha\":{\"value\":0.1},\"line_color\":{\"value\":\"#1f77b4\"},\"right\":{\"field\":\"PassingTD\"},\"y\":{\"field\":\"Player\"}},\"id\":\"1033\",\"type\":\"HBar\"},{\"attributes\":{\"align\":\"center\",\"text\":\"TOP 5 PASSERS\",\"text_color\":{\"value\":\"#2e3333\"},\"text_font_size\":{\"value\":\"28px\"}},\"id\":\"1005\",\"type\":\"Title\"},{\"attributes\":{},\"id\":\"1094\",\"type\":\"LinearScale\"},{\"attributes\":{},\"id\":\"1090\",\"type\":\"DataRange1d\"},{\"attributes\":{\"data_source\":{\"id\":\"1002\"},\"glyph\":{\"id\":\"1032\"},\"hover_glyph\":null,\"muted_glyph\":null,\"nonselection_glyph\":{\"id\":\"1033\"},\"selection_glyph\":null,\"view\":{\"id\":\"1035\"}},\"id\":\"1034\",\"type\":\"GlyphRenderer\"},{\"attributes\":{\"factors\":[\"Jameis Winston\",\"Baker Mayfield\",\"Philip Rivers\",\"Jared Goff\",\"Kyle Allen\"],\"palette\":[\"#440154\",\"#3B518A\",\"#208F8C\",\"#5BC862\",\"#FDE724\"]},\"id\":\"1113\",\"type\":\"CategoricalColorMapper\"},{\"attributes\":{\"fill_alpha\":{\"value\":0.8},\"fill_color\":{\"field\":\"Player\",\"transform\":{\"id\":\"1113\"}},\"height\":{\"value\":0.4},\"line_alpha\":{\"value\":0.8},\"line_color\":{\"value\":\"#1f77b4\"},\"right\":{\"field\":\"Int\"},\"y\":{\"field\":\"Player\"}},\"id\":\"1115\",\"type\":\"HBar\"},{\"attributes\":{\"formatter\":{\"id\":\"1129\"},\"ticker\":{\"id\":\"1103\"}},\"id\":\"1102\",\"type\":\"CategoricalAxis\"},{\"attributes\":{},\"id\":\"1131\",\"type\":\"UnionRenderers\"},{\"attributes\":{},\"id\":\"1132\",\"type\":\"Selection\"},{\"attributes\":{\"axis\":{\"id\":\"1102\"},\"dimension\":1,\"ticker\":null},\"id\":\"1104\",\"type\":\"Grid\"},{\"attributes\":{},\"id\":\"1037\",\"type\":\"BasicTickFormatter\"},{\"attributes\":{},\"id\":\"1127\",\"type\":\"BasicTickFormatter\"},{\"attributes\":{\"axis\":{\"id\":\"1098\"},\"grid_line_color\":null,\"ticker\":null},\"id\":\"1101\",\"type\":\"Grid\"},{\"attributes\":{\"child\":{\"id\":\"1087\"},\"title\":\"Top 5  Interceptors\"},\"id\":\"1273\",\"type\":\"Panel\"},{\"attributes\":{\"active_drag\":\"auto\",\"active_inspect\":\"auto\",\"active_multi\":null,\"active_scroll\":\"auto\",\"active_tap\":\"auto\",\"tools\":[{\"id\":\"1176\"},{\"id\":\"1195\"},{\"id\":\"1196\"},{\"id\":\"1197\"}]},\"id\":\"1198\",\"type\":\"Toolbar\"},{\"attributes\":{\"child\":{\"id\":\"1004\"},\"title\":\"Top 5 Passers\"},\"id\":\"1272\",\"type\":\"Panel\"},{\"attributes\":{\"child\":{\"id\":\"1177\"},\"title\":\"Top 5 Fumbles\"},\"id\":\"1274\",\"type\":\"Panel\"},{\"attributes\":{},\"id\":\"1039\",\"type\":\"CategoricalTickFormatter\"},{\"attributes\":{},\"id\":\"1226\",\"type\":\"CategoricalTickFormatter\"},{\"attributes\":{},\"id\":\"1224\",\"type\":\"BasicTickFormatter\"},{\"attributes\":{\"fill_alpha\":{\"value\":0.1},\"fill_color\":{\"field\":\"Player\",\"transform\":{\"id\":\"1203\"}},\"height\":{\"value\":0.4},\"line_alpha\":{\"value\":0.1},\"line_color\":{\"value\":\"#1f77b4\"},\"right\":{\"field\":\"FL\"},\"y\":{\"field\":\"Player\"}},\"id\":\"1206\",\"type\":\"HBar\"},{\"attributes\":{\"data\":{\"PassingTD\":{\"__ndarray__\":\"AAAAAAAAQkAAAAAAAIBAQAAAAAAAAD9AAAAAAAAAPkAAAAAAAAA7QA==\",\"dtype\":\"float64\",\"order\":\"little\",\"shape\":[5]},\"Player\":[\"Lamar Jackson\",\"Jameis Winston\",\"Russell Wilson\",\"Dak Prescott\",\"Jimmy Garoppolo\"]},\"selected\":{\"id\":\"1042\"},\"selection_policy\":{\"id\":\"1041\"}},\"id\":\"1002\",\"type\":\"ColumnDataSource\"},{\"attributes\":{},\"id\":\"1195\",\"type\":\"SaveTool\"},{\"attributes\":{},\"id\":\"1197\",\"type\":\"WheelZoomTool\"},{\"attributes\":{\"data_source\":{\"id\":\"1175\"},\"glyph\":{\"id\":\"1205\"},\"hover_glyph\":null,\"muted_glyph\":null,\"nonselection_glyph\":{\"id\":\"1206\"},\"selection_glyph\":null,\"view\":{\"id\":\"1208\"}},\"id\":\"1207\",\"type\":\"GlyphRenderer\"},{\"attributes\":{},\"id\":\"1228\",\"type\":\"UnionRenderers\"},{\"attributes\":{},\"id\":\"1229\",\"type\":\"Selection\"},{\"attributes\":{},\"id\":\"1041\",\"type\":\"UnionRenderers\"},{\"attributes\":{},\"id\":\"1042\",\"type\":\"Selection\"},{\"attributes\":{\"formatter\":{\"id\":\"1226\"},\"ticker\":{\"id\":\"1193\"}},\"id\":\"1192\",\"type\":\"CategoricalAxis\"},{\"attributes\":{},\"id\":\"1016\",\"type\":\"BasicTicker\"},{\"attributes\":{},\"id\":\"1196\",\"type\":\"ResetTool\"},{\"attributes\":{\"callback\":null,\"tooltips\":[[\"Player\",\"@Player\"],[\"Passing TD\",\"@PassingTD\"]]},\"id\":\"1003\",\"type\":\"HoverTool\"},{\"attributes\":{\"data\":{\"FL\":{\"__ndarray__\":\"AAAAAAAAJkAAAAAAAAAcQAAAAAAAABxAAAAAAAAAHEAAAAAAAAAUQA==\",\"dtype\":\"float64\",\"order\":\"little\",\"shape\":[5]},\"Player\":[\"Daniel Jones\",\"Kyle Allen\",\"Carson Wentz\",\"Gardner Minshew\",\"Jameis Winston\"]},\"selected\":{\"id\":\"1229\"},\"selection_policy\":{\"id\":\"1228\"}},\"id\":\"1175\",\"type\":\"ColumnDataSource\"},{\"attributes\":{\"factors\":[\"Daniel Jones\",\"Kyle Allen\",\"Carson Wentz\",\"Gardner Minshew\",\"Jameis Winston\"]},\"id\":\"1182\",\"type\":\"FactorRange\"},{\"attributes\":{\"fill_alpha\":{\"value\":0.8},\"fill_color\":{\"field\":\"Player\",\"transform\":{\"id\":\"1203\"}},\"height\":{\"value\":0.4},\"line_alpha\":{\"value\":0.8},\"line_color\":{\"value\":\"#1f77b4\"},\"right\":{\"field\":\"FL\"},\"y\":{\"field\":\"Player\"}},\"id\":\"1205\",\"type\":\"HBar\"},{\"attributes\":{\"axis_label\":\"Passing TouchDowns\",\"formatter\":{\"id\":\"1037\"},\"ticker\":{\"id\":\"1016\"}},\"id\":\"1015\",\"type\":\"LinearAxis\"},{\"attributes\":{\"callback\":null,\"tooltips\":[[\"Player\",\"@Player\"],[\"Fumbles\",\"@FL\"]]},\"id\":\"1176\",\"type\":\"HoverTool\"},{\"attributes\":{\"factors\":[\"Daniel Jones\",\"Kyle Allen\",\"Carson Wentz\",\"Gardner Minshew\",\"Jameis Winston\"],\"palette\":[\"#440154\",\"#3B518A\",\"#208F8C\",\"#5BC862\",\"#FDE724\"]},\"id\":\"1203\",\"type\":\"CategoricalColorMapper\"},{\"attributes\":{},\"id\":\"1184\",\"type\":\"LinearScale\"},{\"attributes\":{\"below\":[{\"id\":\"1188\"}],\"center\":[{\"id\":\"1191\"},{\"id\":\"1194\"}],\"left\":[{\"id\":\"1192\"}],\"plot_height\":500,\"renderers\":[{\"id\":\"1207\"}],\"sizing_mode\":\"stretch_width\",\"title\":{\"id\":\"1178\"},\"toolbar\":{\"id\":\"1198\"},\"x_range\":{\"id\":\"1180\"},\"x_scale\":{\"id\":\"1184\"},\"y_range\":{\"id\":\"1182\"},\"y_scale\":{\"id\":\"1186\"}},\"id\":\"1177\",\"subtype\":\"Figure\",\"type\":\"Plot\"},{\"attributes\":{\"source\":{\"id\":\"1175\"}},\"id\":\"1208\",\"type\":\"CDSView\"},{\"attributes\":{},\"id\":\"1186\",\"type\":\"CategoricalScale\"},{\"attributes\":{},\"id\":\"1180\",\"type\":\"DataRange1d\"},{\"attributes\":{\"align\":\"center\",\"text\":\"TOP 5 FUMBLES\",\"text_color\":{\"value\":\"#2e3333\"},\"text_font_size\":{\"value\":\"28px\"}},\"id\":\"1178\",\"type\":\"Title\"},{\"attributes\":{\"axis_label\":\"Fumbles\",\"formatter\":{\"id\":\"1224\"},\"ticker\":{\"id\":\"1189\"}},\"id\":\"1188\",\"type\":\"LinearAxis\"},{\"attributes\":{},\"id\":\"1193\",\"type\":\"CategoricalTicker\"},{\"attributes\":{},\"id\":\"1189\",\"type\":\"BasicTicker\"},{\"attributes\":{\"axis\":{\"id\":\"1188\"},\"grid_line_color\":null,\"ticker\":null},\"id\":\"1191\",\"type\":\"Grid\"},{\"attributes\":{\"axis\":{\"id\":\"1192\"},\"dimension\":1,\"ticker\":null},\"id\":\"1194\",\"type\":\"Grid\"}],\"root_ids\":[\"1275\"]},\"title\":\"Bokeh Application\",\"version\":\"2.1.1\"}};\n  var render_items = [{\"docid\":\"fb3d1f5c-3456-4ecc-8fa7-87f7d19e9f64\",\"root_ids\":[\"1275\"],\"roots\":{\"1275\":\"97f09ee0-5eb3-448b-8623-e37a8ce816de\"}}];\n  root.Bokeh.embed.embed_items_notebook(docs_json, render_items);\n\n  }\n  if (root.Bokeh !== undefined) {\n    embed_document(root);\n  } else {\n    var attempts = 0;\n    var timer = setInterval(function(root) {\n      if (root.Bokeh !== undefined) {\n        clearInterval(timer);\n        embed_document(root);\n      } else {\n        attempts++;\n        if (attempts > 100) {\n          clearInterval(timer);\n          console.log(\"Bokeh: ERROR: Unable to run BokehJS code because BokehJS library is missing\");\n        }\n      }\n    }, 10, root)\n  }\n})(window);",
      "application/vnd.bokehjs_exec.v0+json": ""
     },
     "metadata": {
      "application/vnd.bokehjs_exec.v0+json": {
       "id": "1275"
      }
     }
    }
   ],
   "source": [
    "# Creating Panel\n",
    "\n",
    "tab1 = Panel(child=p1, title=\"Top 5 Passers\")\n",
    "tab2 = Panel(child=p2, title=\"Top 5  Interceptors\")\n",
    "tab3 = Panel(child=p3, title=\"Top 5 Fumbles\")\n",
    "\n",
    "show(Tabs(tabs=[tab1, tab2, tab3]))"
   ]
  },
  {
   "cell_type": "code",
   "execution_count": 14,
   "metadata": {},
   "outputs": [
    {
     "output_type": "execute_result",
     "data": {
      "text/plain": [
       "        Cmp\n",
       "Team       \n",
       "ATL   459.0\n",
       "NOR   418.0\n",
       "LAR   397.0\n",
       "LAC   394.0\n",
       "PHI   391.0\n",
       "DAL   388.0\n",
       "CAR   382.0\n",
       "TAM   382.0\n",
       "NWE   378.0\n",
       "KAN   378.0\n",
       "NYG   376.0\n",
       "CHI   371.0\n",
       "MIA   371.0\n",
       "OAK   367.0\n",
       "JAX   364.0\n",
       "CIN   356.0\n",
       "GNB   356.0\n",
       "ARI   355.0\n",
       "HOU   355.0\n",
       "DET   344.0\n",
       "SEA   341.0\n",
       "SFO   331.0\n",
       "NYJ   323.0\n",
       "MIN   319.0\n",
       "CLE   318.0\n",
       "PIT   315.0\n",
       "DEN   312.0\n",
       "IND   307.0\n",
       "BUF   299.0\n",
       "WAS   298.0\n",
       "TEN   297.0\n",
       "BAL   289.0"
      ],
      "text/html": "<div>\n<style scoped>\n    .dataframe tbody tr th:only-of-type {\n        vertical-align: middle;\n    }\n\n    .dataframe tbody tr th {\n        vertical-align: top;\n    }\n\n    .dataframe thead th {\n        text-align: right;\n    }\n</style>\n<table border=\"1\" class=\"dataframe\">\n  <thead>\n    <tr style=\"text-align: right;\">\n      <th></th>\n      <th>Cmp</th>\n    </tr>\n    <tr>\n      <th>Team</th>\n      <th></th>\n    </tr>\n  </thead>\n  <tbody>\n    <tr>\n      <th>ATL</th>\n      <td>459.0</td>\n    </tr>\n    <tr>\n      <th>NOR</th>\n      <td>418.0</td>\n    </tr>\n    <tr>\n      <th>LAR</th>\n      <td>397.0</td>\n    </tr>\n    <tr>\n      <th>LAC</th>\n      <td>394.0</td>\n    </tr>\n    <tr>\n      <th>PHI</th>\n      <td>391.0</td>\n    </tr>\n    <tr>\n      <th>DAL</th>\n      <td>388.0</td>\n    </tr>\n    <tr>\n      <th>CAR</th>\n      <td>382.0</td>\n    </tr>\n    <tr>\n      <th>TAM</th>\n      <td>382.0</td>\n    </tr>\n    <tr>\n      <th>NWE</th>\n      <td>378.0</td>\n    </tr>\n    <tr>\n      <th>KAN</th>\n      <td>378.0</td>\n    </tr>\n    <tr>\n      <th>NYG</th>\n      <td>376.0</td>\n    </tr>\n    <tr>\n      <th>CHI</th>\n      <td>371.0</td>\n    </tr>\n    <tr>\n      <th>MIA</th>\n      <td>371.0</td>\n    </tr>\n    <tr>\n      <th>OAK</th>\n      <td>367.0</td>\n    </tr>\n    <tr>\n      <th>JAX</th>\n      <td>364.0</td>\n    </tr>\n    <tr>\n      <th>CIN</th>\n      <td>356.0</td>\n    </tr>\n    <tr>\n      <th>GNB</th>\n      <td>356.0</td>\n    </tr>\n    <tr>\n      <th>ARI</th>\n      <td>355.0</td>\n    </tr>\n    <tr>\n      <th>HOU</th>\n      <td>355.0</td>\n    </tr>\n    <tr>\n      <th>DET</th>\n      <td>344.0</td>\n    </tr>\n    <tr>\n      <th>SEA</th>\n      <td>341.0</td>\n    </tr>\n    <tr>\n      <th>SFO</th>\n      <td>331.0</td>\n    </tr>\n    <tr>\n      <th>NYJ</th>\n      <td>323.0</td>\n    </tr>\n    <tr>\n      <th>MIN</th>\n      <td>319.0</td>\n    </tr>\n    <tr>\n      <th>CLE</th>\n      <td>318.0</td>\n    </tr>\n    <tr>\n      <th>PIT</th>\n      <td>315.0</td>\n    </tr>\n    <tr>\n      <th>DEN</th>\n      <td>312.0</td>\n    </tr>\n    <tr>\n      <th>IND</th>\n      <td>307.0</td>\n    </tr>\n    <tr>\n      <th>BUF</th>\n      <td>299.0</td>\n    </tr>\n    <tr>\n      <th>WAS</th>\n      <td>298.0</td>\n    </tr>\n    <tr>\n      <th>TEN</th>\n      <td>297.0</td>\n    </tr>\n    <tr>\n      <th>BAL</th>\n      <td>289.0</td>\n    </tr>\n  </tbody>\n</table>\n</div>"
     },
     "metadata": {},
     "execution_count": 14
    }
   ],
   "source": [
    "# Teams ith the most pass completion \n",
    "teams_completion = df.groupby('Team')[['Cmp']].sum()\n",
    "teams_completion = teams_completion.sort_values(by='Cmp', ascending=False)\n",
    "teams_completion"
   ]
  },
  {
   "cell_type": "code",
   "execution_count": 16,
   "metadata": {},
   "outputs": [
    {
     "output_type": "display_data",
     "data": {
      "text/html": "\n\n\n\n\n\n  <div class=\"bk-root\" id=\"d34e3a67-6500-4429-a8e3-c1687b27a7f8\" data-root-id=\"1608\"></div>\n"
     },
     "metadata": {}
    },
    {
     "output_type": "display_data",
     "data": {
      "application/javascript": "(function(root) {\n  function embed_document(root) {\n    \n  var docs_json = {\"abd2b4cc-39ef-4a84-be47-f316ddfe4026\":{\"roots\":{\"references\":[{\"attributes\":{\"children\":[{\"id\":\"1574\"},{\"id\":\"1606\"}]},\"id\":\"1608\",\"type\":\"Column\"},{\"attributes\":{\"data_source\":{\"id\":\"1572\"},\"glyph\":{\"id\":\"1602\"},\"hover_glyph\":null,\"muted_glyph\":null,\"nonselection_glyph\":{\"id\":\"1603\"},\"selection_glyph\":null,\"view\":{\"id\":\"1605\"}},\"id\":\"1604\",\"type\":\"GlyphRenderer\"},{\"attributes\":{},\"id\":\"1594\",\"type\":\"WheelZoomTool\"},{\"attributes\":{},\"id\":\"1593\",\"type\":\"ResetTool\"},{\"attributes\":{},\"id\":\"1592\",\"type\":\"SaveTool\"},{\"attributes\":{},\"id\":\"1579\",\"type\":\"DataRange1d\"},{\"attributes\":{\"active_drag\":\"auto\",\"active_inspect\":\"auto\",\"active_multi\":null,\"active_scroll\":\"auto\",\"active_tap\":\"auto\",\"tools\":[{\"id\":\"1573\"},{\"id\":\"1592\"},{\"id\":\"1593\"},{\"id\":\"1594\"}]},\"id\":\"1595\",\"type\":\"Toolbar\"},{\"attributes\":{},\"id\":\"1663\",\"type\":\"UnionRenderers\"},{\"attributes\":{\"fill_alpha\":{\"value\":0.8},\"fill_color\":{\"field\":\"Team\",\"transform\":{\"id\":\"1600\"}},\"line_alpha\":{\"value\":0.8},\"line_color\":{\"value\":null},\"size\":{\"units\":\"screen\",\"value\":30},\"x\":{\"field\":\"Team\"},\"y\":{\"field\":\"Cmp\"}},\"id\":\"1602\",\"type\":\"Circle\"},{\"attributes\":{},\"id\":\"1664\",\"type\":\"Selection\"},{\"attributes\":{\"align\":\"center\",\"text\":\"TEAMS COMPLETION\",\"text_color\":{\"value\":\"#2e3333\"},\"text_font_size\":{\"value\":\"28px\"}},\"id\":\"1575\",\"type\":\"Title\"},{\"attributes\":{},\"id\":\"1659\",\"type\":\"CategoricalTickFormatter\"},{\"attributes\":{\"factors\":[\"ATL\",\"NOR\",\"LAR\",\"LAC\",\"PHI\",\"DAL\",\"CAR\",\"TAM\",\"NWE\",\"KAN\",\"NYG\",\"CHI\",\"MIA\",\"OAK\",\"JAX\",\"CIN\",\"GNB\",\"ARI\",\"HOU\",\"DET\",\"SEA\",\"SFO\",\"NYJ\",\"MIN\",\"CLE\",\"PIT\",\"DEN\",\"IND\",\"BUF\",\"WAS\",\"TEN\",\"BAL\"]},\"id\":\"1577\",\"type\":\"FactorRange\"},{\"attributes\":{\"axis\":{\"id\":\"1588\"},\"dimension\":1,\"ticker\":null},\"id\":\"1591\",\"type\":\"Grid\"},{\"attributes\":{\"data\":{\"Cmp\":{\"__ndarray__\":\"AAAAAACwfEAAAAAAACB6QAAAAAAA0HhAAAAAAACgeEAAAAAAAHB4QAAAAAAAQHhAAAAAAADgd0AAAAAAAOB3QAAAAAAAoHdAAAAAAACgd0AAAAAAAIB3QAAAAAAAMHdAAAAAAAAwd0AAAAAAAPB2QAAAAAAAwHZAAAAAAABAdkAAAAAAAEB2QAAAAAAAMHZAAAAAAAAwdkAAAAAAAIB1QAAAAAAAUHVAAAAAAACwdEAAAAAAADB0QAAAAAAA8HNAAAAAAADgc0AAAAAAALBzQAAAAAAAgHNAAAAAAAAwc0AAAAAAALByQAAAAAAAoHJAAAAAAACQckAAAAAAABByQA==\",\"dtype\":\"float64\",\"order\":\"little\",\"shape\":[32]},\"Team\":[\"ATL\",\"NOR\",\"LAR\",\"LAC\",\"PHI\",\"DAL\",\"CAR\",\"TAM\",\"NWE\",\"KAN\",\"NYG\",\"CHI\",\"MIA\",\"OAK\",\"JAX\",\"CIN\",\"GNB\",\"ARI\",\"HOU\",\"DET\",\"SEA\",\"SFO\",\"NYJ\",\"MIN\",\"CLE\",\"PIT\",\"DEN\",\"IND\",\"BUF\",\"WAS\",\"TEN\",\"BAL\"]},\"selected\":{\"id\":\"1664\"},\"selection_policy\":{\"id\":\"1663\"}},\"id\":\"1572\",\"type\":\"ColumnDataSource\"},{\"attributes\":{\"callback\":null,\"tooltips\":[[\"Team\",\"@Team\"],[\"Completion\",\"@Cmp\"]]},\"id\":\"1573\",\"type\":\"HoverTool\"},{\"attributes\":{},\"id\":\"1583\",\"type\":\"LinearScale\"},{\"attributes\":{},\"id\":\"1581\",\"type\":\"CategoricalScale\"},{\"attributes\":{\"below\":[{\"id\":\"1585\"}],\"center\":[{\"id\":\"1587\"},{\"id\":\"1591\"}],\"left\":[{\"id\":\"1588\"}],\"plot_height\":500,\"plot_width\":1200,\"renderers\":[{\"id\":\"1604\"}],\"title\":{\"id\":\"1575\"},\"toolbar\":{\"id\":\"1595\"},\"x_range\":{\"id\":\"1577\"},\"x_scale\":{\"id\":\"1581\"},\"y_range\":{\"id\":\"1579\"},\"y_scale\":{\"id\":\"1583\"}},\"id\":\"1574\",\"subtype\":\"Figure\",\"type\":\"Plot\"},{\"attributes\":{},\"id\":\"1586\",\"type\":\"CategoricalTicker\"},{\"attributes\":{},\"id\":\"1589\",\"type\":\"BasicTicker\"},{\"attributes\":{\"axis_label\":\"Teams\",\"formatter\":{\"id\":\"1659\"},\"ticker\":{\"id\":\"1586\"}},\"id\":\"1585\",\"type\":\"CategoricalAxis\"},{\"attributes\":{},\"id\":\"1661\",\"type\":\"BasicTickFormatter\"},{\"attributes\":{\"source\":{\"id\":\"1572\"}},\"id\":\"1605\",\"type\":\"CDSView\"},{\"attributes\":{\"axis\":{\"id\":\"1585\"},\"ticker\":null},\"id\":\"1587\",\"type\":\"Grid\"},{\"attributes\":{\"factors\":[\"ATL\",\"NOR\",\"LAR\",\"LAC\",\"PHI\",\"DAL\",\"CAR\",\"TAM\",\"NWE\",\"KAN\",\"NYG\",\"CHI\",\"MIA\",\"OAK\",\"JAX\",\"CIN\",\"GNB\",\"ARI\",\"HOU\",\"DET\",\"SEA\",\"SFO\",\"NYJ\",\"MIN\",\"CLE\",\"PIT\",\"DEN\",\"IND\",\"BUF\",\"WAS\",\"TEN\",\"BAL\"],\"palette\":[\"#440154\",\"#482374\",\"#472777\",\"#472C7B\",\"#45347F\",\"#433C84\",\"#433C84\",\"#404387\",\"#3B508A\",\"#39558B\",\"#365A8C\",\"#3F4788\",\"#345E8D\",\"#2C728E\",\"#267F8E\",\"#228B8D\",\"#208F8C\",\"#29788E\",\"#277D8E\",\"#25838D\",\"#228B8D\",\"#22A784\",\"#1E988A\",\"#39B976\",\"#42BE71\",\"#79D151\",\"#81D34C\",\"#9FD938\",\"#BADE27\",\"#C5DF21\",\"#C7E01F\",\"#FDE724\"]},\"id\":\"1600\",\"type\":\"CategoricalColorMapper\"},{\"attributes\":{\"fill_alpha\":{\"value\":0.1},\"fill_color\":{\"field\":\"Team\",\"transform\":{\"id\":\"1600\"}},\"line_alpha\":{\"value\":0.1},\"line_color\":{\"value\":null},\"size\":{\"units\":\"screen\",\"value\":30},\"x\":{\"field\":\"Team\"},\"y\":{\"field\":\"Cmp\"}},\"id\":\"1603\",\"type\":\"Circle\"},{\"attributes\":{\"axis_label\":\"Completion\",\"formatter\":{\"id\":\"1661\"},\"ticker\":{\"id\":\"1589\"}},\"id\":\"1588\",\"type\":\"LinearAxis\"},{\"attributes\":{\"args\":{\"other\":{\"id\":\"1602\"}},\"code\":\"other.radius = this.value\"},\"id\":\"1607\",\"type\":\"CustomJS\"},{\"attributes\":{\"end\":1,\"format\":\"0[.]00\",\"js_property_callbacks\":{\"change:value\":[{\"id\":\"1607\"}]},\"start\":0.25,\"step\":0.01,\"value\":0.25},\"id\":\"1606\",\"type\":\"Slider\"}],\"root_ids\":[\"1608\"]},\"title\":\"Bokeh Application\",\"version\":\"2.1.1\"}};\n  var render_items = [{\"docid\":\"abd2b4cc-39ef-4a84-be47-f316ddfe4026\",\"root_ids\":[\"1608\"],\"roots\":{\"1608\":\"d34e3a67-6500-4429-a8e3-c1687b27a7f8\"}}];\n  root.Bokeh.embed.embed_items_notebook(docs_json, render_items);\n\n  }\n  if (root.Bokeh !== undefined) {\n    embed_document(root);\n  } else {\n    var attempts = 0;\n    var timer = setInterval(function(root) {\n      if (root.Bokeh !== undefined) {\n        clearInterval(timer);\n        embed_document(root);\n      } else {\n        attempts++;\n        if (attempts > 100) {\n          clearInterval(timer);\n          console.log(\"Bokeh: ERROR: Unable to run BokehJS code because BokehJS library is missing\");\n        }\n      }\n    }, 10, root)\n  }\n})(window);",
      "application/vnd.bokehjs_exec.v0+json": ""
     },
     "metadata": {
      "application/vnd.bokehjs_exec.v0+json": {
       "id": "1608"
      }
     }
    }
   ],
   "source": [
    "# Plot - Teams Completion\n",
    "\n",
    "teams_completion = pd.DataFrame(teams_completion)\n",
    "source = ColumnDataSource(teams_completion)\n",
    "\n",
    "hover = HoverTool(tooltips = [(\"Team\", \"@Team\"), (\"Completion\", \"@Cmp\")])\n",
    "\n",
    "teams_list = source.data['Team'].tolist()\n",
    "\n",
    "p_teams = figure(\n",
    "       x_range=teams_list,\n",
    "       title='TEAMS COMPLETION',\n",
    "       x_axis_label='Teams',\n",
    "       y_axis_label='Completion',\n",
    "       plot_height=500,\n",
    "       plot_width=1200,\n",
    "       tools=[hover,'save', 'reset', 'wheel_zoom']\n",
    ")\n",
    "\n",
    "s = p_teams.circle(\n",
    "    x='Team', \n",
    "    y='Cmp',\n",
    "    size=30, \n",
    "    fill_color=factor_cmap(\n",
    "        'Team',\n",
    "        palette=('#440154', '#482374', '#472777', '#472C7B', '#45347F', '#433C84', '#433C84', '#404387', '#3B508A', '#39558B', '#365A8C', '#3F4788','#345E8D', '#2C728E', '#267F8E', '#228B8D','#208F8C', '#29788E', '#277D8E', '#25838D', '#228B8D', '#22A784', '#1E988A', '#39B976', '#42BE71', '#79D151', '#81D34C', '#9FD938', '#BADE27', '#C5DF21', '#C7E01F','#FDE724'),\n",
    "        factors=teams_list\n",
    "       ),\n",
    "    alpha=0.8,\n",
    "    line_color=None,\n",
    "    source=source)\n",
    "\n",
    "p_teams.title.text_font_size='28px'\n",
    "p_teams.title.align='center'\n",
    "p_teams.title.text_color='#2e3333'\n",
    "\n",
    "slider = Slider(start=0.25, end=1, step=0.01, value=0.25)\n",
    "slider.js_link('value', s.glyph, 'radius')\n",
    "\n",
    "show(column(p_teams, slider))"
   ]
  },
  {
   "cell_type": "code",
   "execution_count": null,
   "metadata": {},
   "outputs": [],
   "source": []
  }
 ]
}